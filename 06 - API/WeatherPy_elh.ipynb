{
 "cells": [
  {
   "cell_type": "markdown",
   "metadata": {},
   "source": [
    "# WeatherPy\n",
    "----\n",
    "\n",
    "#### Note\n",
    "* Instructions have been included for each segment. You do not have to follow them exactly, but they are included to help you think through the steps."
   ]
  },
  {
   "cell_type": "code",
   "execution_count": 1,
   "metadata": {
    "scrolled": true
   },
   "outputs": [],
   "source": [
    "# Dependencies and Setup\n",
    "import matplotlib.pyplot as plt\n",
    "import pandas as pd\n",
    "import numpy as np\n",
    "import requests\n",
    "import time\n",
    "import statsmodels.api as sm\n",
    "from scipy.stats import linregress\n",
    "from sklearn.linear_model import LinearRegression\n",
    "import seaborn as sns\n",
    "\n",
    "# Import API key\n",
    "from api_keys import weather_api_key\n",
    "\n",
    "# Incorporated citipy to determine city based on latitude and longitude\n",
    "from citipy import citipy\n",
    "\n",
    "# Output File (CSV)\n",
    "output_data_file = \"output_data/cities_elh.csv\"\n",
    "\n",
    "# Range of latitudes and longitudes\n",
    "lat_range = (-90, 90)\n",
    "lng_range = (-180, 180)"
   ]
  },
  {
   "cell_type": "markdown",
   "metadata": {},
   "source": [
    "## Generate Cities List"
   ]
  },
  {
   "cell_type": "code",
   "execution_count": 2,
   "metadata": {},
   "outputs": [
    {
     "data": {
      "text/plain": [
       "616"
      ]
     },
     "execution_count": 2,
     "metadata": {},
     "output_type": "execute_result"
    }
   ],
   "source": [
    "# List for holding lat_lngs and cities\n",
    "lat_lngs = []\n",
    "cities = []\n",
    "\n",
    "# Create a set of random lat and lng combinations\n",
    "lats = np.random.uniform(lat_range[0], lat_range[1], size=1500)\n",
    "lngs = np.random.uniform(lng_range[0], lng_range[1], size=1500)\n",
    "lat_lngs = zip(lats, lngs)\n",
    "\n",
    "# Identify nearest city for each lat, lng combination\n",
    "for lat_lng in lat_lngs:\n",
    "    city = citipy.nearest_city(lat_lng[0], lat_lng[1]).city_name\n",
    "    \n",
    "    # If the city is unique, then add it to a our cities list\n",
    "    if city not in cities:\n",
    "        cities.append(city)\n",
    "\n",
    "# Print the city count to confirm sufficient count\n",
    "len(cities)"
   ]
  },
  {
   "cell_type": "markdown",
   "metadata": {},
   "source": [
    "### Perform API Calls\n",
    "* Perform a weather check on each city using a series of successive API calls.\n",
    "* Include a print log of each city as it'sbeing processed (with the city number and city name).\n"
   ]
  },
  {
   "cell_type": "code",
   "execution_count": 3,
   "metadata": {
    "scrolled": true
   },
   "outputs": [
    {
     "data": {
      "text/plain": [
       "['lagoa', 'qaanaaq', 'illoqqortoormiut', 'nome', 'faya']"
      ]
     },
     "execution_count": 3,
     "metadata": {},
     "output_type": "execute_result"
    }
   ],
   "source": [
    "cities[0:5]"
   ]
  },
  {
   "cell_type": "code",
   "execution_count": 4,
   "metadata": {},
   "outputs": [
    {
     "data": {
      "text/plain": [
       "'http://api.openweathermap.org/data/2.5/weather?appid=df28987fa9fb65e0f5c48f1f4457af7f&units=metric&q='"
      ]
     },
     "execution_count": 4,
     "metadata": {},
     "output_type": "execute_result"
    }
   ],
   "source": [
    "# Save config information.\n",
    "url = \"http://api.openweathermap.org/data/2.5/weather?\"\n",
    "units = \"metric\"\n",
    "\n",
    "# Build partial query URL\n",
    "query_url = f\"{url}appid={weather_api_key}&units={units}&q=\"\n",
    "query_url"
   ]
  },
  {
   "cell_type": "code",
   "execution_count": 5,
   "metadata": {},
   "outputs": [
    {
     "name": "stdout",
     "output_type": "stream",
     "text": [
      "lagoa\n",
      "qaanaaq\n",
      "Missing data.. will not include in data\n",
      "nome\n",
      "faya\n",
      "albany\n",
      "new norfolk\n",
      "chapais\n",
      "paso de los toros\n",
      "bluff\n",
      "san patricio\n",
      "cape town\n",
      "port macquarie\n",
      "busselton\n",
      "rikitea\n",
      "kapaa\n",
      "dole\n",
      "magadan\n",
      "ribeira grande\n",
      "burnie\n",
      "ushuaia\n",
      "pevek\n",
      "saint-philippe\n",
      "ponta do sol\n",
      "cap malheureux\n",
      "east london\n",
      "avarua\n",
      "belyy yar\n",
      "rio muerto\n",
      "port alfred\n",
      "atuona\n",
      "fairbanks\n",
      "dahuk\n",
      "castro\n",
      "victoria\n",
      "torbay\n",
      "terme\n",
      "birao\n",
      "barrow\n",
      "palin\n",
      "butaritari\n",
      "port moresby\n",
      "ahipara\n",
      "dikson\n",
      "mantua\n",
      "Missing data.. will not include in data\n",
      "punta arenas\n",
      "makakilo city\n",
      "indianola\n",
      "Missing data.. will not include in data\n",
      "geraldton\n",
      "hilo\n",
      "hobart\n",
      "hermanus\n",
      "Missing data.. will not include in data\n",
      "cabo san lucas\n",
      "hithadhoo\n",
      "rawson\n",
      "cherskiy\n",
      "bethel\n",
      "mahebourg\n",
      "agucadoura\n",
      "padang\n",
      "Missing data.. will not include in data\n",
      "Missing data.. will not include in data\n",
      "kaitangata\n",
      "voh\n",
      "mar del plata\n",
      "acapulco\n",
      "bardiyah\n",
      "algeciras\n",
      "abu kamal\n",
      "leningradskiy\n",
      "galesong\n",
      "tiksi\n",
      "ishigaki\n",
      "mataura\n",
      "khilok\n",
      "Missing data.. will not include in data\n",
      "khatanga\n",
      "hofn\n",
      "carnarvon\n",
      "artyom\n",
      "norman wells\n",
      "grand-lahou\n",
      "chuy\n",
      "fort nelson\n",
      "nikolskoye\n",
      "borogontsy\n",
      "Missing data.. will not include in data\n",
      "neira\n",
      "mossendjo\n",
      "hearst\n",
      "upata\n",
      "theodoriana\n",
      "samfya\n",
      "Missing data.. will not include in data\n",
      "auki\n",
      "mogwase\n",
      "Missing data.. will not include in data\n",
      "port elizabeth\n",
      "cidreira\n",
      "mount gambier\n",
      "lompoc\n",
      "pisco\n",
      "zhaotong\n",
      "batsfjord\n",
      "pouembout\n",
      "codrington\n",
      "saint-georges\n",
      "yanam\n",
      "tahoua\n",
      "namibe\n",
      "lata\n",
      "nanortalik\n",
      "jamestown\n",
      "vaini\n",
      "camacha\n",
      "souillac\n",
      "grindavik\n",
      "sinnamary\n",
      "kremenki\n",
      "puerto del rosario\n",
      "tasiilaq\n",
      "tuy hoa\n",
      "banjarmasin\n",
      "yellowknife\n",
      "dingle\n",
      "nabire\n",
      "severo-kurilsk\n",
      "pangkalanbuun\n",
      "ughelli\n",
      "Missing data.. will not include in data\n",
      "pueblo\n",
      "petropavlovsk-kamchatskiy\n",
      "oktyabrskiy\n",
      "esso\n",
      "entre rios\n",
      "joao pinheiro\n",
      "coquimbo\n",
      "Missing data.. will not include in data\n",
      "terracina\n",
      "georgetown\n",
      "kimbe\n",
      "sydney\n",
      "dolores\n",
      "nautla\n",
      "Missing data.. will not include in data\n",
      "maues\n",
      "pitimbu\n",
      "mogadishu\n",
      "najran\n",
      "sorong\n",
      "Missing data.. will not include in data\n",
      "karasjok\n",
      "lincoln\n",
      "palmer\n",
      "hay river\n",
      "flin flon\n",
      "mackay\n",
      "tukrah\n",
      "turbat\n",
      "valdivia\n",
      "kushiro\n",
      "luderitz\n",
      "matagami\n",
      "bathsheba\n",
      "neuquen\n",
      "krasnohrad\n",
      "Missing data.. will not include in data\n",
      "progreso\n",
      "matongo\n",
      "nouadhibou\n",
      "gudur\n",
      "flinders\n",
      "fortuna\n",
      "saskylakh\n",
      "tazovskiy\n",
      "aguimes\n",
      "aksay\n",
      "dehloran\n",
      "el rusio\n",
      "banda aceh\n",
      "bengkulu\n",
      "richards bay\n",
      "Missing data.. will not include in data\n",
      "tual\n",
      "wajir\n",
      "houma\n",
      "bambous virieux\n",
      "yar-sale\n",
      "omboue\n",
      "kruisfontein\n",
      "vila franca do campo\n",
      "sosnovo-ozerskoye\n",
      "beringovskiy\n",
      "abong mbang\n",
      "filingue\n",
      "Missing data.. will not include in data\n",
      "yenagoa\n",
      "margate\n",
      "tarboro\n",
      "daru\n",
      "portland\n",
      "vao\n",
      "loveland\n",
      "airai\n",
      "atar\n",
      "port lincoln\n",
      "butembo\n",
      "provideniya\n",
      "envira\n",
      "sargur\n",
      "uruzgan\n",
      "arraial do cabo\n",
      "gediz\n",
      "prince rupert\n",
      "sakakah\n",
      "salisbury\n",
      "ulaanbaatar\n",
      "Missing data.. will not include in data\n",
      "ketchikan\n",
      "black river\n",
      "zhumadian\n",
      "gazli\n",
      "jalu\n",
      "puerto ayora\n",
      "warrnambool\n",
      "dakar\n",
      "sao felix do xingu\n",
      "manaure\n",
      "thompson\n",
      "faanui\n",
      "lasa\n",
      "tateyama\n",
      "Missing data.. will not include in data\n",
      "yali\n",
      "lilongwe\n",
      "ossora\n",
      "san cristobal\n",
      "Missing data.. will not include in data\n",
      "kapit\n",
      "tambura\n",
      "goderich\n",
      "tulun\n",
      "coldwater\n",
      "klaksvik\n",
      "twentynine palms\n",
      "bredasdorp\n",
      "lakes entrance\n",
      "vengerovo\n",
      "upernavik\n",
      "kahului\n",
      "Missing data.. will not include in data\n",
      "kodiak\n",
      "vagur\n",
      "staryy nadym\n",
      "taoudenni\n",
      "kutum\n",
      "jardim\n",
      "pedasi\n",
      "misratah\n",
      "tuktoyaktuk\n",
      "kavaratti\n",
      "calamar\n",
      "manokwari\n",
      "tricase\n",
      "antofagasta\n",
      "tabas\n",
      "biltine\n",
      "kathu\n",
      "maunabo\n",
      "cabedelo\n",
      "ambulu\n",
      "nemuro\n",
      "ukiah\n",
      "laguna\n",
      "west fargo\n",
      "culpeper\n",
      "sambava\n",
      "garissa\n",
      "middle island\n",
      "port hedland\n",
      "qeshm\n",
      "pangnirtung\n",
      "avera\n",
      "axim\n",
      "Missing data.. will not include in data\n",
      "seminole\n",
      "abu samrah\n",
      "jiuquan\n",
      "Missing data.. will not include in data\n",
      "rudnichnyy\n",
      "la rioja\n",
      "moen\n",
      "bintulu\n",
      "kortkeros\n",
      "namatanai\n",
      "sao joao da barra\n",
      "waingapu\n",
      "lubango\n",
      "kasangulu\n",
      "kavieng\n",
      "segou\n",
      "praia da vitoria\n",
      "samana\n",
      "talnakh\n",
      "rocha\n",
      "adrar\n",
      "bukama\n",
      "zorgo\n",
      "urumqi\n",
      "waitati\n",
      "mehamn\n",
      "Missing data.. will not include in data\n",
      "Missing data.. will not include in data\n",
      "mandalgovi\n",
      "milkovo\n",
      "barahan\n",
      "valparaiso\n",
      "mankono\n",
      "mercedes\n",
      "quatre cocos\n",
      "acari\n",
      "longyearbyen\n",
      "Missing data.. will not include in data\n",
      "synya\n",
      "mao\n",
      "asau\n",
      "havre-saint-pierre\n",
      "lexington\n",
      "troitskoye\n",
      "lebu\n",
      "komyshnya\n",
      "carroll\n",
      "arica\n",
      "nyeri\n",
      "olafsvik\n",
      "kaseda\n",
      "Missing data.. will not include in data\n",
      "hovd\n",
      "florida\n",
      "castilho\n",
      "guaraniacu\n",
      "walvis bay\n",
      "bull savanna\n",
      "ware\n",
      "ambilobe\n",
      "saldanha\n",
      "qarchi gak\n",
      "coos bay\n",
      "revelstoke\n",
      "sitio novo do tocantins\n",
      "pajapan\n",
      "nacogdoches\n",
      "yazman\n",
      "erenhot\n",
      "hami\n",
      "huarmey\n",
      "bustamante\n",
      "akyab\n",
      "gjirokaster\n",
      "churapcha\n",
      "prabumulih\n",
      "harper\n",
      "Missing data.. will not include in data\n",
      "darnah\n",
      "teahupoo\n",
      "vigeland\n",
      "sabha\n",
      "weihe\n",
      "port blair\n",
      "escanaba\n",
      "areia branca\n",
      "tuatapere\n",
      "komsomolskiy\n",
      "evensk\n",
      "puerto madero\n",
      "tynda\n",
      "tadine\n",
      "roald\n",
      "bud\n",
      "paranhos\n",
      "devonport\n",
      "taree\n",
      "moa\n",
      "shakawe\n",
      "pacific grove\n",
      "suwalki\n",
      "Missing data.. will not include in data\n",
      "egvekinot\n",
      "clyde river\n",
      "grand gaube\n",
      "beyneu\n",
      "broome\n",
      "los llanos de aridane\n",
      "kousseri\n",
      "Missing data.. will not include in data\n",
      "vestmannaeyjar\n",
      "itarema\n",
      "novyy urengoy\n",
      "jibuti\n",
      "samarai\n",
      "Missing data.. will not include in data\n",
      "pathein\n",
      "severnyy-kospashskiy\n",
      "sao raimundo nonato\n",
      "nara\n",
      "cayenne\n",
      "muroto\n",
      "kyabram\n",
      "basco\n",
      "hobyo\n",
      "sola\n",
      "sistranda\n",
      "gobabis\n",
      "naze\n",
      "Missing data.. will not include in data\n",
      "binga\n",
      "hamilton\n",
      "palembang\n",
      "xapuri\n",
      "mujiayingzi\n",
      "tautira\n",
      "mahon\n",
      "poum\n",
      "chokurdakh\n",
      "lavrentiya\n",
      "bowen\n",
      "mitu\n",
      "yumen\n",
      "esperance\n",
      "ostrovnoy\n",
      "nguru\n",
      "tiznit\n",
      "Missing data.. will not include in data\n",
      "Missing data.. will not include in data\n",
      "polson\n",
      "lorengau\n",
      "constitucion\n",
      "ust-tsilma\n",
      "soe\n",
      "tabory\n",
      "cascais\n",
      "tongliao\n",
      "touros\n",
      "lapua\n",
      "zasosna\n",
      "sokolka\n",
      "la ronge\n",
      "tarakan\n",
      "gracanica\n",
      "lashio\n",
      "puri\n",
      "mitsamiouli\n",
      "jiayuguan\n",
      "akureyri\n",
      "kupang\n",
      "jinchang\n",
      "salvador\n",
      "batagay\n",
      "perelyub\n",
      "yerofey pavlovich\n",
      "at-bashi\n",
      "pamatawan\n",
      "colombia\n",
      "aklavik\n",
      "srednekolymsk\n",
      "pemba\n",
      "brae\n",
      "oranjemund\n",
      "narsaq\n",
      "Missing data.. will not include in data\n",
      "qiongshan\n",
      "necochea\n",
      "vanimo\n",
      "ancud\n",
      "ternate\n",
      "carutapera\n",
      "santa maria\n",
      "moberly\n",
      "vila\n",
      "gualaca\n",
      "Missing data.. will not include in data\n",
      "iqaluit\n",
      "challans\n",
      "pedraza\n",
      "santa cruz de la palma\n",
      "yangjiang\n",
      "college\n",
      "selty\n",
      "oranjestad\n",
      "chas\n",
      "pauini\n",
      "Missing data.. will not include in data\n",
      "ajaccio\n",
      "healdsburg\n",
      "novaya bryan\n",
      "katangli\n",
      "isangel\n",
      "denpasar\n",
      "krivosheino\n",
      "mareeba\n",
      "dunedin\n",
      "bitung\n",
      "hervey bay\n",
      "chechat\n",
      "loandjili\n",
      "selcuk\n",
      "pontivy\n",
      "sao filipe\n",
      "akdepe\n",
      "elko\n",
      "porto novo\n",
      "radcliff\n",
      "thinadhoo\n",
      "salalah\n",
      "galle\n",
      "chase\n",
      "sao geraldo do araguaia\n",
      "yueyang\n",
      "tigil\n",
      "kloulklubed\n",
      "bagotville\n",
      "biala podlaska\n",
      "huambo\n",
      "ust-nera\n",
      "coahuayana\n",
      "sisimiut\n",
      "abatskoye\n",
      "shingu\n",
      "Missing data.. will not include in data\n",
      "marawi\n",
      "Missing data.. will not include in data\n",
      "north mankato\n",
      "san juan\n",
      "vardo\n",
      "maravilha\n",
      "sept-iles\n",
      "saint george\n",
      "riyadh\n",
      "songkhla\n",
      "okhotsk\n",
      "agadir\n",
      "ilulissat\n",
      "little current\n",
      "batemans bay\n",
      "seydisehir\n",
      "Missing data.. will not include in data\n",
      "point pleasant\n",
      "Missing data.. will not include in data\n",
      "kelowna\n",
      "bubaque\n",
      "ziway\n",
      "marienburg\n",
      "Missing data.. will not include in data\n",
      "yulara\n",
      "mana\n",
      "kolokani\n",
      "karratha\n",
      "inhambane\n",
      "boyolangu\n",
      "canton\n",
      "reconquista\n",
      "kuching\n",
      "Missing data.. will not include in data\n",
      "lichuan\n",
      "acarau\n",
      "aljezur\n",
      "trincomalee\n",
      "masalli\n",
      "kidal\n",
      "vanavara\n",
      "pochutla\n",
      "iglino\n",
      "kremsmunster\n",
      "oistins\n",
      "brandon\n",
      "husavik\n",
      "Missing data.. will not include in data\n",
      "jerome\n",
      "christchurch\n",
      "santa lucia\n",
      "Missing data.. will not include in data\n",
      "bilma\n",
      "Missing data.. will not include in data\n",
      "mobaye\n",
      "ovalle\n",
      "balabac\n",
      "kano\n",
      "zhezkazgan\n",
      "balurghat\n",
      "west wendover\n",
      "piacabucu\n",
      "saint-pierre\n",
      "kirakira\n",
      "deputatskiy\n",
      "caravelas\n",
      "katsuura\n",
      "kokopo\n",
      "opotiki\n",
      "lerwick\n",
      "muros\n",
      "pokaran\n",
      "poddorye\n",
      "altamirano\n",
      "pringsewu\n",
      "hokitika\n",
      "tyumentsevo\n",
      "sarangani\n",
      "subkhankulovo\n",
      "manzhouli\n",
      "ankazoabo\n",
      "merrill\n",
      "brazzaville\n",
      "payson\n"
     ]
    }
   ],
   "source": [
    "# Create empty lists to store the data for each field\n",
    "city_name_list = []\n",
    "countries = []\n",
    "lng_list = []\n",
    "lat_list = []\n",
    "temp_list = []\n",
    "humidity_list = []\n",
    "clouds_list = []\n",
    "wind_speed_list = []\n",
    "date_list = []\n",
    "\n",
    "# Loop through cities\n",
    "for city in cities:\n",
    "    \n",
    "    # Get the JSON response from the OpenWeather API\n",
    "    response_json = requests.get(query_url + city).json()\n",
    "    \n",
    "    # Start the error handling\n",
    "    # Retrieve the items for each field and append them to the empty lists  \n",
    "    try:            \n",
    "        city_name = response_json['name']\n",
    "        country = response_json['sys']['country']\n",
    "        lng = response_json['coord']['lon']\n",
    "        lat = response_json['coord']['lat']\n",
    "        temp = response_json['main']['temp']\n",
    "        humidity = response_json['main']['humidity']\n",
    "        clouds = response_json['clouds']['all']\n",
    "        wind_speed = response_json['wind']['speed']        \n",
    "        date = response_json[\"dt\"]\n",
    "        \n",
    "        city_name_list.append(city_name)\n",
    "        countries.append(country)\n",
    "        lng_list.append(lng)\n",
    "        lat_list.append(lat)\n",
    "        temp_list.append(temp)\n",
    "        humidity_list.append(humidity)\n",
    "        clouds_list.append(clouds)\n",
    "        wind_speed_list.append(wind_speed)\n",
    "        date_list.append(date)\n",
    "\n",
    "    \n",
    "        print(city)\n",
    "    \n",
    "    # Print error message and move on to the next city if there is an error\n",
    "    except:\n",
    "        \n",
    "        print(\"Missing data.. will not include in data\")"
   ]
  },
  {
   "cell_type": "markdown",
   "metadata": {},
   "source": [
    "### Convert Raw Data to DataFrame\n",
    "* Export the city data into a .csv.\n",
    "* Display the DataFrame"
   ]
  },
  {
   "cell_type": "code",
   "execution_count": 6,
   "metadata": {},
   "outputs": [
    {
     "data": {
      "text/html": [
       "<div>\n",
       "<style scoped>\n",
       "    .dataframe tbody tr th:only-of-type {\n",
       "        vertical-align: middle;\n",
       "    }\n",
       "\n",
       "    .dataframe tbody tr th {\n",
       "        vertical-align: top;\n",
       "    }\n",
       "\n",
       "    .dataframe thead th {\n",
       "        text-align: right;\n",
       "    }\n",
       "</style>\n",
       "<table border=\"1\" class=\"dataframe\">\n",
       "  <thead>\n",
       "    <tr style=\"text-align: right;\">\n",
       "      <th></th>\n",
       "      <th>City</th>\n",
       "      <th>Country</th>\n",
       "      <th>Lat</th>\n",
       "      <th>Lng</th>\n",
       "      <th>Temperature</th>\n",
       "      <th>Humidity</th>\n",
       "      <th>Clouds</th>\n",
       "      <th>Wind_Speed</th>\n",
       "      <th>date</th>\n",
       "    </tr>\n",
       "  </thead>\n",
       "  <tbody>\n",
       "    <tr>\n",
       "      <th>0</th>\n",
       "      <td>Lagoa</td>\n",
       "      <td>PT</td>\n",
       "      <td>39.0500</td>\n",
       "      <td>-27.9833</td>\n",
       "      <td>20.37</td>\n",
       "      <td>75</td>\n",
       "      <td>100</td>\n",
       "      <td>7.54</td>\n",
       "      <td>1630898843</td>\n",
       "    </tr>\n",
       "    <tr>\n",
       "      <th>1</th>\n",
       "      <td>Qaanaaq</td>\n",
       "      <td>GL</td>\n",
       "      <td>77.4840</td>\n",
       "      <td>-69.3632</td>\n",
       "      <td>-7.47</td>\n",
       "      <td>86</td>\n",
       "      <td>98</td>\n",
       "      <td>0.94</td>\n",
       "      <td>1630898844</td>\n",
       "    </tr>\n",
       "    <tr>\n",
       "      <th>2</th>\n",
       "      <td>Nome</td>\n",
       "      <td>US</td>\n",
       "      <td>64.5011</td>\n",
       "      <td>-165.4064</td>\n",
       "      <td>8.04</td>\n",
       "      <td>87</td>\n",
       "      <td>90</td>\n",
       "      <td>3.09</td>\n",
       "      <td>1630898844</td>\n",
       "    </tr>\n",
       "    <tr>\n",
       "      <th>3</th>\n",
       "      <td>Faya</td>\n",
       "      <td>SA</td>\n",
       "      <td>18.3851</td>\n",
       "      <td>42.4509</td>\n",
       "      <td>15.29</td>\n",
       "      <td>47</td>\n",
       "      <td>9</td>\n",
       "      <td>0.96</td>\n",
       "      <td>1630898844</td>\n",
       "    </tr>\n",
       "    <tr>\n",
       "      <th>4</th>\n",
       "      <td>Albany</td>\n",
       "      <td>US</td>\n",
       "      <td>42.6001</td>\n",
       "      <td>-73.9662</td>\n",
       "      <td>17.95</td>\n",
       "      <td>93</td>\n",
       "      <td>100</td>\n",
       "      <td>1.34</td>\n",
       "      <td>1630898681</td>\n",
       "    </tr>\n",
       "    <tr>\n",
       "      <th>...</th>\n",
       "      <td>...</td>\n",
       "      <td>...</td>\n",
       "      <td>...</td>\n",
       "      <td>...</td>\n",
       "      <td>...</td>\n",
       "      <td>...</td>\n",
       "      <td>...</td>\n",
       "      <td>...</td>\n",
       "      <td>...</td>\n",
       "    </tr>\n",
       "    <tr>\n",
       "      <th>565</th>\n",
       "      <td>Manzhouli</td>\n",
       "      <td>CN</td>\n",
       "      <td>49.6000</td>\n",
       "      <td>117.4333</td>\n",
       "      <td>13.84</td>\n",
       "      <td>48</td>\n",
       "      <td>100</td>\n",
       "      <td>3.61</td>\n",
       "      <td>1630898936</td>\n",
       "    </tr>\n",
       "    <tr>\n",
       "      <th>566</th>\n",
       "      <td>Ankazoabo</td>\n",
       "      <td>MG</td>\n",
       "      <td>-22.2833</td>\n",
       "      <td>44.5167</td>\n",
       "      <td>17.26</td>\n",
       "      <td>66</td>\n",
       "      <td>0</td>\n",
       "      <td>2.56</td>\n",
       "      <td>1630899063</td>\n",
       "    </tr>\n",
       "    <tr>\n",
       "      <th>567</th>\n",
       "      <td>Merrill</td>\n",
       "      <td>US</td>\n",
       "      <td>45.1805</td>\n",
       "      <td>-89.6835</td>\n",
       "      <td>13.40</td>\n",
       "      <td>87</td>\n",
       "      <td>40</td>\n",
       "      <td>0.00</td>\n",
       "      <td>1630899064</td>\n",
       "    </tr>\n",
       "    <tr>\n",
       "      <th>568</th>\n",
       "      <td>Brazzaville</td>\n",
       "      <td>CG</td>\n",
       "      <td>-4.2658</td>\n",
       "      <td>15.2832</td>\n",
       "      <td>24.20</td>\n",
       "      <td>73</td>\n",
       "      <td>75</td>\n",
       "      <td>2.06</td>\n",
       "      <td>1630898791</td>\n",
       "    </tr>\n",
       "    <tr>\n",
       "      <th>569</th>\n",
       "      <td>Payson</td>\n",
       "      <td>US</td>\n",
       "      <td>40.0444</td>\n",
       "      <td>-111.7321</td>\n",
       "      <td>20.81</td>\n",
       "      <td>31</td>\n",
       "      <td>1</td>\n",
       "      <td>1.54</td>\n",
       "      <td>1630899064</td>\n",
       "    </tr>\n",
       "  </tbody>\n",
       "</table>\n",
       "<p>570 rows × 9 columns</p>\n",
       "</div>"
      ],
      "text/plain": [
       "            City Country      Lat       Lng  Temperature  Humidity  Clouds  \\\n",
       "0          Lagoa      PT  39.0500  -27.9833        20.37        75     100   \n",
       "1        Qaanaaq      GL  77.4840  -69.3632        -7.47        86      98   \n",
       "2           Nome      US  64.5011 -165.4064         8.04        87      90   \n",
       "3           Faya      SA  18.3851   42.4509        15.29        47       9   \n",
       "4         Albany      US  42.6001  -73.9662        17.95        93     100   \n",
       "..           ...     ...      ...       ...          ...       ...     ...   \n",
       "565    Manzhouli      CN  49.6000  117.4333        13.84        48     100   \n",
       "566    Ankazoabo      MG -22.2833   44.5167        17.26        66       0   \n",
       "567      Merrill      US  45.1805  -89.6835        13.40        87      40   \n",
       "568  Brazzaville      CG  -4.2658   15.2832        24.20        73      75   \n",
       "569       Payson      US  40.0444 -111.7321        20.81        31       1   \n",
       "\n",
       "     Wind_Speed        date  \n",
       "0          7.54  1630898843  \n",
       "1          0.94  1630898844  \n",
       "2          3.09  1630898844  \n",
       "3          0.96  1630898844  \n",
       "4          1.34  1630898681  \n",
       "..          ...         ...  \n",
       "565        3.61  1630898936  \n",
       "566        2.56  1630899063  \n",
       "567        0.00  1630899064  \n",
       "568        2.06  1630898791  \n",
       "569        1.54  1630899064  \n",
       "\n",
       "[570 rows x 9 columns]"
      ]
     },
     "execution_count": 6,
     "metadata": {},
     "output_type": "execute_result"
    }
   ],
   "source": [
    "# create a data frame from cities, lat, and temp\n",
    "weather_dict = {\n",
    "    \"City\": city_name_list, \n",
    "    \"Country\": countries, \n",
    "    \"Lat\": lat_list, \n",
    "    \"Lng\": lng_list,\n",
    "    \"Temperature\": temp_list, \n",
    "    \"Humidity\": humidity_list, \n",
    "    \"Clouds\": clouds_list,\n",
    "    \"Wind_Speed\": wind_speed_list,\n",
    "    \"date\": date_list}\n",
    "\n",
    "weather_data = pd.DataFrame(weather_dict)\n",
    "weather_data"
   ]
  },
  {
   "cell_type": "code",
   "execution_count": 7,
   "metadata": {},
   "outputs": [
    {
     "data": {
      "text/html": [
       "<div>\n",
       "<style scoped>\n",
       "    .dataframe tbody tr th:only-of-type {\n",
       "        vertical-align: middle;\n",
       "    }\n",
       "\n",
       "    .dataframe tbody tr th {\n",
       "        vertical-align: top;\n",
       "    }\n",
       "\n",
       "    .dataframe thead th {\n",
       "        text-align: right;\n",
       "    }\n",
       "</style>\n",
       "<table border=\"1\" class=\"dataframe\">\n",
       "  <thead>\n",
       "    <tr style=\"text-align: right;\">\n",
       "      <th></th>\n",
       "      <th>Lat</th>\n",
       "      <th>Lng</th>\n",
       "      <th>Temperature</th>\n",
       "      <th>Humidity</th>\n",
       "      <th>Clouds</th>\n",
       "      <th>Wind_Speed</th>\n",
       "      <th>date</th>\n",
       "    </tr>\n",
       "  </thead>\n",
       "  <tbody>\n",
       "    <tr>\n",
       "      <th>count</th>\n",
       "      <td>570.000000</td>\n",
       "      <td>570.000000</td>\n",
       "      <td>570.000000</td>\n",
       "      <td>570.000000</td>\n",
       "      <td>570.000000</td>\n",
       "      <td>570.000000</td>\n",
       "      <td>5.700000e+02</td>\n",
       "    </tr>\n",
       "    <tr>\n",
       "      <th>mean</th>\n",
       "      <td>19.021166</td>\n",
       "      <td>19.625490</td>\n",
       "      <td>19.261228</td>\n",
       "      <td>70.908772</td>\n",
       "      <td>53.935088</td>\n",
       "      <td>3.435930</td>\n",
       "      <td>1.630899e+09</td>\n",
       "    </tr>\n",
       "    <tr>\n",
       "      <th>std</th>\n",
       "      <td>32.859968</td>\n",
       "      <td>90.946668</td>\n",
       "      <td>7.844778</td>\n",
       "      <td>21.379377</td>\n",
       "      <td>40.275907</td>\n",
       "      <td>2.455657</td>\n",
       "      <td>9.066059e+01</td>\n",
       "    </tr>\n",
       "    <tr>\n",
       "      <th>min</th>\n",
       "      <td>-54.800000</td>\n",
       "      <td>-179.166700</td>\n",
       "      <td>-7.470000</td>\n",
       "      <td>10.000000</td>\n",
       "      <td>0.000000</td>\n",
       "      <td>0.000000</td>\n",
       "      <td>1.630898e+09</td>\n",
       "    </tr>\n",
       "    <tr>\n",
       "      <th>25%</th>\n",
       "      <td>-7.220275</td>\n",
       "      <td>-61.223875</td>\n",
       "      <td>13.730000</td>\n",
       "      <td>59.250000</td>\n",
       "      <td>7.250000</td>\n",
       "      <td>1.540000</td>\n",
       "      <td>1.630899e+09</td>\n",
       "    </tr>\n",
       "    <tr>\n",
       "      <th>50%</th>\n",
       "      <td>20.959550</td>\n",
       "      <td>20.359000</td>\n",
       "      <td>20.120000</td>\n",
       "      <td>76.000000</td>\n",
       "      <td>64.000000</td>\n",
       "      <td>2.980000</td>\n",
       "      <td>1.630899e+09</td>\n",
       "    </tr>\n",
       "    <tr>\n",
       "      <th>75%</th>\n",
       "      <td>45.471725</td>\n",
       "      <td>102.444925</td>\n",
       "      <td>25.535000</td>\n",
       "      <td>87.000000</td>\n",
       "      <td>97.000000</td>\n",
       "      <td>4.877500</td>\n",
       "      <td>1.630899e+09</td>\n",
       "    </tr>\n",
       "    <tr>\n",
       "      <th>max</th>\n",
       "      <td>78.218600</td>\n",
       "      <td>179.316700</td>\n",
       "      <td>35.780000</td>\n",
       "      <td>100.000000</td>\n",
       "      <td>100.000000</td>\n",
       "      <td>13.420000</td>\n",
       "      <td>1.630899e+09</td>\n",
       "    </tr>\n",
       "  </tbody>\n",
       "</table>\n",
       "</div>"
      ],
      "text/plain": [
       "              Lat         Lng  Temperature    Humidity      Clouds  \\\n",
       "count  570.000000  570.000000   570.000000  570.000000  570.000000   \n",
       "mean    19.021166   19.625490    19.261228   70.908772   53.935088   \n",
       "std     32.859968   90.946668     7.844778   21.379377   40.275907   \n",
       "min    -54.800000 -179.166700    -7.470000   10.000000    0.000000   \n",
       "25%     -7.220275  -61.223875    13.730000   59.250000    7.250000   \n",
       "50%     20.959550   20.359000    20.120000   76.000000   64.000000   \n",
       "75%     45.471725  102.444925    25.535000   87.000000   97.000000   \n",
       "max     78.218600  179.316700    35.780000  100.000000  100.000000   \n",
       "\n",
       "       Wind_Speed          date  \n",
       "count  570.000000  5.700000e+02  \n",
       "mean     3.435930  1.630899e+09  \n",
       "std      2.455657  9.066059e+01  \n",
       "min      0.000000  1.630898e+09  \n",
       "25%      1.540000  1.630899e+09  \n",
       "50%      2.980000  1.630899e+09  \n",
       "75%      4.877500  1.630899e+09  \n",
       "max     13.420000  1.630899e+09  "
      ]
     },
     "execution_count": 7,
     "metadata": {},
     "output_type": "execute_result"
    }
   ],
   "source": [
    "weather_data.describe()"
   ]
  },
  {
   "cell_type": "code",
   "execution_count": 8,
   "metadata": {},
   "outputs": [],
   "source": [
    "# Export to .csv file\n",
    "weather_data.to_csv(output_data_file, index=False)"
   ]
  },
  {
   "cell_type": "markdown",
   "metadata": {},
   "source": [
    "## Inspect the data and remove the cities where the humidity > 100%.\n",
    "----\n",
    "Skip this step if there are no cities that have humidity > 100%. "
   ]
  },
  {
   "cell_type": "code",
   "execution_count": 9,
   "metadata": {},
   "outputs": [
    {
     "data": {
      "text/html": [
       "<div>\n",
       "<style scoped>\n",
       "    .dataframe tbody tr th:only-of-type {\n",
       "        vertical-align: middle;\n",
       "    }\n",
       "\n",
       "    .dataframe tbody tr th {\n",
       "        vertical-align: top;\n",
       "    }\n",
       "\n",
       "    .dataframe thead th {\n",
       "        text-align: right;\n",
       "    }\n",
       "</style>\n",
       "<table border=\"1\" class=\"dataframe\">\n",
       "  <thead>\n",
       "    <tr style=\"text-align: right;\">\n",
       "      <th></th>\n",
       "      <th>City</th>\n",
       "      <th>Country</th>\n",
       "      <th>Lat</th>\n",
       "      <th>Lng</th>\n",
       "      <th>Temperature</th>\n",
       "      <th>Humidity</th>\n",
       "      <th>Clouds</th>\n",
       "      <th>Wind_Speed</th>\n",
       "      <th>date</th>\n",
       "    </tr>\n",
       "  </thead>\n",
       "  <tbody>\n",
       "  </tbody>\n",
       "</table>\n",
       "</div>"
      ],
      "text/plain": [
       "Empty DataFrame\n",
       "Columns: [City, Country, Lat, Lng, Temperature, Humidity, Clouds, Wind_Speed, date]\n",
       "Index: []"
      ]
     },
     "execution_count": 9,
     "metadata": {},
     "output_type": "execute_result"
    }
   ],
   "source": [
    "mask = weather_data.Humidity > 100\n",
    "weather_data.loc[mask]"
   ]
  },
  {
   "cell_type": "code",
   "execution_count": 10,
   "metadata": {},
   "outputs": [],
   "source": [
    "#  Get the indices of cities that have humidity over 100%.\n"
   ]
  },
  {
   "cell_type": "code",
   "execution_count": 11,
   "metadata": {},
   "outputs": [],
   "source": [
    "# Make a new DataFrame equal to the city data to drop all humidity outliers by index.\n",
    "# Passing \"inplace=False\" will make a copy of the city_data DataFrame, which we call \"clean_city_data\".\n"
   ]
  },
  {
   "cell_type": "code",
   "execution_count": null,
   "metadata": {},
   "outputs": [],
   "source": [
    "\n"
   ]
  },
  {
   "cell_type": "markdown",
   "metadata": {},
   "source": [
    "## Plotting the Data\n",
    "* Use proper labeling of the plots using plot titles (including date of analysis) and axes labels.\n",
    "* Save the plotted figures as .pngs."
   ]
  },
  {
   "cell_type": "markdown",
   "metadata": {},
   "source": [
    "# Latitude vs. Temperature Plot"
   ]
  },
  {
   "cell_type": "code",
   "execution_count": 12,
   "metadata": {
    "scrolled": true
   },
   "outputs": [
    {
     "data": {
      "image/png": "[encoded data removed]",
      "text/plain": [
       "<Figure size 720x576 with 1 Axes>"
      ]
     },
     "metadata": {
      "needs_background": "light"
     },
     "output_type": "display_data"
    }
   ],
   "source": [
    "\n",
    "plt.figure(figsize = (10,8))\n",
    "a=sns.scatterplot(x='Lat', y=\"Temperature\", data=weather_data, palette = \"nipy_spectral\", edgecolor=\"black\")\n",
    "a.yaxis.grid(True) # Hide the horizontal gridlines\n",
    "a.xaxis.grid(True) # Show the vertical gridlines\n",
    "plt.title(\"Latitude vs. Temperature\", size=18)\n",
    "plt.xlabel(\"Latitude\", size=14)\n",
    "plt.ylabel(\"Temperature\", size=14)\n",
    "# plt.tight_layout()\n",
    "plt.savefig(\"output_data/Latitude_vs_Temp.png\")"
   ]
  },
  {
   "cell_type": "markdown",
   "metadata": {},
   "source": [
    "## Latitude vs. Humidity Plot"
   ]
  },
  {
   "cell_type": "code",
   "execution_count": 13,
   "metadata": {},
   "outputs": [
    {
     "data": {
      "image/png": "[encoded data removed]",
      "text/plain": [
       "<Figure size 720x576 with 1 Axes>"
      ]
     },
     "metadata": {
      "needs_background": "light"
     },
     "output_type": "display_data"
    }
   ],
   "source": [
    "plt.figure(figsize = (10,8))\n",
    "a=sns.scatterplot(x='Lat', y=\"Humidity\", data=weather_data, palette = \"nipy_spectral\", edgecolor=\"black\")\n",
    "a.yaxis.grid(True) # Hide the horizontal gridlines\n",
    "a.xaxis.grid(True) # Show the vertical gridlines\n",
    "plt.title(\"Latitude vs. Temperature\", size=18)\n",
    "plt.xlabel(\"Latitude\", size=14)\n",
    "plt.ylabel(\"Humidity\", size=14)\n",
    "# plt.tight_layout()\n",
    "plt.savefig(\"output_data/Latitude_vs_Humidity.png\")"
   ]
  },
  {
   "cell_type": "markdown",
   "metadata": {},
   "source": [
    "## Latitude vs. Cloudiness Plot"
   ]
  },
  {
   "cell_type": "code",
   "execution_count": 14,
   "metadata": {},
   "outputs": [
    {
     "data": {
      "image/png": "[encoded data removed]",
      "text/plain": [
       "<Figure size 720x576 with 1 Axes>"
      ]
     },
     "metadata": {
      "needs_background": "light"
     },
     "output_type": "display_data"
    }
   ],
   "source": [
    "plt.figure(figsize = (10,8))\n",
    "a=sns.scatterplot(x='Lat', y=\"Clouds\", data=weather_data, palette = \"nipy_spectral\", edgecolor=\"black\")\n",
    "a.yaxis.grid(True) # Hide the horizontal gridlines\n",
    "a.xaxis.grid(True) # Show the vertical gridlines\n",
    "plt.title(\"Latitude vs. Cloudiness\", size=18)\n",
    "plt.xlabel(\"Latitude\", size=14)\n",
    "plt.ylabel(\"Cloudiness\", size=14)\n",
    "# plt.tight_layout()\n",
    "plt.savefig(\"output_data/Latitude_vs_Cloudiness.png\")"
   ]
  },
  {
   "cell_type": "markdown",
   "metadata": {},
   "source": [
    "## Latitude vs. Wind Speed Plot"
   ]
  },
  {
   "cell_type": "code",
   "execution_count": 15,
   "metadata": {},
   "outputs": [
    {
     "data": {
      "image/png": "[encoded data removed]",
      "text/plain": [
       "<Figure size 720x576 with 1 Axes>"
      ]
     },
     "metadata": {
      "needs_background": "light"
     },
     "output_type": "display_data"
    }
   ],
   "source": [
    "plt.figure(figsize = (10,8))\n",
    "a=sns.scatterplot(x='Lat', y=\"Wind_Speed\", data=weather_data, palette = \"nipy_spectral\", edgecolor=\"black\")\n",
    "a.yaxis.grid(True) # Hide the horizontal gridlines\n",
    "a.xaxis.grid(True) # Show the vertical gridlines\n",
    "plt.title(\"Latitude vs. Wind Speed\", size=18)\n",
    "plt.xlabel(\"Latitude\", size=14)\n",
    "plt.ylabel(\"Wind Speed\", size=14)\n",
    "# plt.tight_layout()\n",
    "plt.savefig(\"output_data/Latitude_vs_Wind_Speed.png\")"
   ]
  },
  {
   "cell_type": "markdown",
   "metadata": {},
   "source": [
    "## Linear Regression"
   ]
  },
  {
   "cell_type": "code",
   "execution_count": 16,
   "metadata": {},
   "outputs": [
    {
     "data": {
      "text/html": [
       "<div>\n",
       "<style scoped>\n",
       "    .dataframe tbody tr th:only-of-type {\n",
       "        vertical-align: middle;\n",
       "    }\n",
       "\n",
       "    .dataframe tbody tr th {\n",
       "        vertical-align: top;\n",
       "    }\n",
       "\n",
       "    .dataframe thead th {\n",
       "        text-align: right;\n",
       "    }\n",
       "</style>\n",
       "<table border=\"1\" class=\"dataframe\">\n",
       "  <thead>\n",
       "    <tr style=\"text-align: right;\">\n",
       "      <th></th>\n",
       "      <th>Lat</th>\n",
       "      <th>Lng</th>\n",
       "      <th>Temperature</th>\n",
       "      <th>Humidity</th>\n",
       "      <th>Clouds</th>\n",
       "      <th>Wind_Speed</th>\n",
       "      <th>date</th>\n",
       "    </tr>\n",
       "  </thead>\n",
       "  <tbody>\n",
       "    <tr>\n",
       "      <th>Lat</th>\n",
       "      <td>1.000000</td>\n",
       "      <td>-0.150109</td>\n",
       "      <td>-0.332412</td>\n",
       "      <td>0.073106</td>\n",
       "      <td>0.142016</td>\n",
       "      <td>-0.072963</td>\n",
       "      <td>0.088349</td>\n",
       "    </tr>\n",
       "    <tr>\n",
       "      <th>Lng</th>\n",
       "      <td>-0.150109</td>\n",
       "      <td>1.000000</td>\n",
       "      <td>0.118677</td>\n",
       "      <td>-0.293095</td>\n",
       "      <td>0.052425</td>\n",
       "      <td>0.332591</td>\n",
       "      <td>0.116178</td>\n",
       "    </tr>\n",
       "    <tr>\n",
       "      <th>Temperature</th>\n",
       "      <td>-0.332412</td>\n",
       "      <td>0.118677</td>\n",
       "      <td>1.000000</td>\n",
       "      <td>-0.268324</td>\n",
       "      <td>-0.153451</td>\n",
       "      <td>-0.016128</td>\n",
       "      <td>0.049244</td>\n",
       "    </tr>\n",
       "    <tr>\n",
       "      <th>Humidity</th>\n",
       "      <td>0.073106</td>\n",
       "      <td>-0.293095</td>\n",
       "      <td>-0.268324</td>\n",
       "      <td>1.000000</td>\n",
       "      <td>0.414353</td>\n",
       "      <td>-0.086786</td>\n",
       "      <td>-0.080808</td>\n",
       "    </tr>\n",
       "    <tr>\n",
       "      <th>Clouds</th>\n",
       "      <td>0.142016</td>\n",
       "      <td>0.052425</td>\n",
       "      <td>-0.153451</td>\n",
       "      <td>0.414353</td>\n",
       "      <td>1.000000</td>\n",
       "      <td>0.067584</td>\n",
       "      <td>0.013767</td>\n",
       "    </tr>\n",
       "    <tr>\n",
       "      <th>Wind_Speed</th>\n",
       "      <td>-0.072963</td>\n",
       "      <td>0.332591</td>\n",
       "      <td>-0.016128</td>\n",
       "      <td>-0.086786</td>\n",
       "      <td>0.067584</td>\n",
       "      <td>1.000000</td>\n",
       "      <td>0.004986</td>\n",
       "    </tr>\n",
       "    <tr>\n",
       "      <th>date</th>\n",
       "      <td>0.088349</td>\n",
       "      <td>0.116178</td>\n",
       "      <td>0.049244</td>\n",
       "      <td>-0.080808</td>\n",
       "      <td>0.013767</td>\n",
       "      <td>0.004986</td>\n",
       "      <td>1.000000</td>\n",
       "    </tr>\n",
       "  </tbody>\n",
       "</table>\n",
       "</div>"
      ],
      "text/plain": [
       "                  Lat       Lng  Temperature  Humidity    Clouds  Wind_Speed  \\\n",
       "Lat          1.000000 -0.150109    -0.332412  0.073106  0.142016   -0.072963   \n",
       "Lng         -0.150109  1.000000     0.118677 -0.293095  0.052425    0.332591   \n",
       "Temperature -0.332412  0.118677     1.000000 -0.268324 -0.153451   -0.016128   \n",
       "Humidity     0.073106 -0.293095    -0.268324  1.000000  0.414353   -0.086786   \n",
       "Clouds       0.142016  0.052425    -0.153451  0.414353  1.000000    0.067584   \n",
       "Wind_Speed  -0.072963  0.332591    -0.016128 -0.086786  0.067584    1.000000   \n",
       "date         0.088349  0.116178     0.049244 -0.080808  0.013767    0.004986   \n",
       "\n",
       "                 date  \n",
       "Lat          0.088349  \n",
       "Lng          0.116178  \n",
       "Temperature  0.049244  \n",
       "Humidity    -0.080808  \n",
       "Clouds       0.013767  \n",
       "Wind_Speed   0.004986  \n",
       "date         1.000000  "
      ]
     },
     "execution_count": 16,
     "metadata": {},
     "output_type": "execute_result"
    }
   ],
   "source": [
    "corrs = weather_data.corr()\n",
    "corrs"
   ]
  },
  {
   "cell_type": "code",
   "execution_count": 17,
   "metadata": {},
   "outputs": [
    {
     "data": {
      "image/png": "[encoded data removed]",
      "text/plain": [
       "<Figure size 720x432 with 2 Axes>"
      ]
     },
     "metadata": {
      "needs_background": "light"
     },
     "output_type": "display_data"
    }
   ],
   "source": [
    "plt.figure(figsize=(10,6))\n",
    "sns.heatmap(corrs)\n",
    "plt.show()"
   ]
  },
  {
   "cell_type": "code",
   "execution_count": 18,
   "metadata": {},
   "outputs": [],
   "source": [
    "# Create Northern and Southern Hemisphere DataFrames\n",
    "northern_hemisphere = weather_data.loc[weather_data[\"Lat\"] >= 0]\n",
    "southern_hemisphere = weather_data.loc[weather_data[\"Lat\"] < 0]"
   ]
  },
  {
   "cell_type": "code",
   "execution_count": 19,
   "metadata": {},
   "outputs": [
    {
     "name": "stdout",
     "output_type": "stream",
     "text": [
      "<class 'pandas.core.frame.DataFrame'>\n",
      "Int64Index: 389 entries, 0 to 569\n",
      "Data columns (total 9 columns):\n",
      " #   Column       Non-Null Count  Dtype  \n",
      "---  ------       --------------  -----  \n",
      " 0   City         389 non-null    object \n",
      " 1   Country      389 non-null    object \n",
      " 2   Lat          389 non-null    float64\n",
      " 3   Lng          389 non-null    float64\n",
      " 4   Temperature  389 non-null    float64\n",
      " 5   Humidity     389 non-null    int64  \n",
      " 6   Clouds       389 non-null    int64  \n",
      " 7   Wind_Speed   389 non-null    float64\n",
      " 8   date         389 non-null    int64  \n",
      "dtypes: float64(4), int64(3), object(2)\n",
      "memory usage: 30.4+ KB\n"
     ]
    }
   ],
   "source": [
    "northern_hemisphere.info()"
   ]
  },
  {
   "cell_type": "code",
   "execution_count": 20,
   "metadata": {},
   "outputs": [
    {
     "name": "stdout",
     "output_type": "stream",
     "text": [
      "<class 'pandas.core.frame.DataFrame'>\n",
      "Int64Index: 181 entries, 5 to 568\n",
      "Data columns (total 9 columns):\n",
      " #   Column       Non-Null Count  Dtype  \n",
      "---  ------       --------------  -----  \n",
      " 0   City         181 non-null    object \n",
      " 1   Country      181 non-null    object \n",
      " 2   Lat          181 non-null    float64\n",
      " 3   Lng          181 non-null    float64\n",
      " 4   Temperature  181 non-null    float64\n",
      " 5   Humidity     181 non-null    int64  \n",
      " 6   Clouds       181 non-null    int64  \n",
      " 7   Wind_Speed   181 non-null    float64\n",
      " 8   date         181 non-null    int64  \n",
      "dtypes: float64(4), int64(3), object(2)\n",
      "memory usage: 14.1+ KB\n"
     ]
    }
   ],
   "source": [
    "southern_hemisphere.info()"
   ]
  },
  {
   "cell_type": "markdown",
   "metadata": {},
   "source": [
    "####  Northern Hemisphere - Max Temp vs. Latitude Linear Regression"
   ]
  },
  {
   "cell_type": "code",
   "execution_count": 21,
   "metadata": {},
   "outputs": [
    {
     "data": {
      "text/plain": [
       "Text(0, 0.5, 'Temperature')"
      ]
     },
     "execution_count": 21,
     "metadata": {},
     "output_type": "execute_result"
    },
    {
     "data": {
      "image/png": "[encoded data removed]",
      "text/plain": [
       "<Figure size 720x576 with 1 Axes>"
      ]
     },
     "metadata": {
      "needs_background": "light"
     },
     "output_type": "display_data"
    }
   ],
   "source": [
    "plt.figure(figsize = (10,8))\n",
    "a=sns.scatterplot(x='Lat', y=\"Temperature\", data=northern_hemisphere, palette = \"nipy_spectral\", edgecolor=\"black\")\n",
    "a.yaxis.grid(True) # Hide the horizontal gridlines\n",
    "a.xaxis.grid(True) # Show the vertical gridlines\n",
    "plt.title(\"Northern Hemisphere - Temp vs. Latitude Linear Regression\", size=18)\n",
    "plt.xlabel(\"Latitude\", size=14)\n",
    "plt.ylabel(\"Temperature\", size=14)\n",
    "# plt.tight_layout()\n",
    "# plt.savefig(\"output_data/Northern_Lat_Temp_Regression.png\")"
   ]
  },
  {
   "cell_type": "code",
   "execution_count": 22,
   "metadata": {},
   "outputs": [
    {
     "data": {
      "text/html": [
       "<div>\n",
       "<style scoped>\n",
       "    .dataframe tbody tr th:only-of-type {\n",
       "        vertical-align: middle;\n",
       "    }\n",
       "\n",
       "    .dataframe tbody tr th {\n",
       "        vertical-align: top;\n",
       "    }\n",
       "\n",
       "    .dataframe thead th {\n",
       "        text-align: right;\n",
       "    }\n",
       "</style>\n",
       "<table border=\"1\" class=\"dataframe\">\n",
       "  <thead>\n",
       "    <tr style=\"text-align: right;\">\n",
       "      <th></th>\n",
       "      <th>Lat</th>\n",
       "      <th>Lng</th>\n",
       "      <th>Temperature</th>\n",
       "      <th>Humidity</th>\n",
       "      <th>Clouds</th>\n",
       "      <th>Wind_Speed</th>\n",
       "      <th>date</th>\n",
       "    </tr>\n",
       "  </thead>\n",
       "  <tbody>\n",
       "    <tr>\n",
       "      <th>Lat</th>\n",
       "      <td>1.000000</td>\n",
       "      <td>0.004533</td>\n",
       "      <td>-0.800019</td>\n",
       "      <td>-0.034615</td>\n",
       "      <td>0.046614</td>\n",
       "      <td>0.173583</td>\n",
       "      <td>-0.018695</td>\n",
       "    </tr>\n",
       "    <tr>\n",
       "      <th>Lng</th>\n",
       "      <td>0.004533</td>\n",
       "      <td>1.000000</td>\n",
       "      <td>0.040641</td>\n",
       "      <td>-0.207706</td>\n",
       "      <td>0.085753</td>\n",
       "      <td>0.294725</td>\n",
       "      <td>0.181168</td>\n",
       "    </tr>\n",
       "    <tr>\n",
       "      <th>Temperature</th>\n",
       "      <td>-0.800019</td>\n",
       "      <td>0.040641</td>\n",
       "      <td>1.000000</td>\n",
       "      <td>-0.274954</td>\n",
       "      <td>-0.216663</td>\n",
       "      <td>-0.115898</td>\n",
       "      <td>0.025132</td>\n",
       "    </tr>\n",
       "    <tr>\n",
       "      <th>Humidity</th>\n",
       "      <td>-0.034615</td>\n",
       "      <td>-0.207706</td>\n",
       "      <td>-0.274954</td>\n",
       "      <td>1.000000</td>\n",
       "      <td>0.467697</td>\n",
       "      <td>0.014461</td>\n",
       "      <td>-0.095484</td>\n",
       "    </tr>\n",
       "    <tr>\n",
       "      <th>Clouds</th>\n",
       "      <td>0.046614</td>\n",
       "      <td>0.085753</td>\n",
       "      <td>-0.216663</td>\n",
       "      <td>0.467697</td>\n",
       "      <td>1.000000</td>\n",
       "      <td>0.176466</td>\n",
       "      <td>0.018179</td>\n",
       "    </tr>\n",
       "    <tr>\n",
       "      <th>Wind_Speed</th>\n",
       "      <td>0.173583</td>\n",
       "      <td>0.294725</td>\n",
       "      <td>-0.115898</td>\n",
       "      <td>0.014461</td>\n",
       "      <td>0.176466</td>\n",
       "      <td>1.000000</td>\n",
       "      <td>0.035239</td>\n",
       "    </tr>\n",
       "    <tr>\n",
       "      <th>date</th>\n",
       "      <td>-0.018695</td>\n",
       "      <td>0.181168</td>\n",
       "      <td>0.025132</td>\n",
       "      <td>-0.095484</td>\n",
       "      <td>0.018179</td>\n",
       "      <td>0.035239</td>\n",
       "      <td>1.000000</td>\n",
       "    </tr>\n",
       "  </tbody>\n",
       "</table>\n",
       "</div>"
      ],
      "text/plain": [
       "                  Lat       Lng  Temperature  Humidity    Clouds  Wind_Speed  \\\n",
       "Lat          1.000000  0.004533    -0.800019 -0.034615  0.046614    0.173583   \n",
       "Lng          0.004533  1.000000     0.040641 -0.207706  0.085753    0.294725   \n",
       "Temperature -0.800019  0.040641     1.000000 -0.274954 -0.216663   -0.115898   \n",
       "Humidity    -0.034615 -0.207706    -0.274954  1.000000  0.467697    0.014461   \n",
       "Clouds       0.046614  0.085753    -0.216663  0.467697  1.000000    0.176466   \n",
       "Wind_Speed   0.173583  0.294725    -0.115898  0.014461  0.176466    1.000000   \n",
       "date        -0.018695  0.181168     0.025132 -0.095484  0.018179    0.035239   \n",
       "\n",
       "                 date  \n",
       "Lat         -0.018695  \n",
       "Lng          0.181168  \n",
       "Temperature  0.025132  \n",
       "Humidity    -0.095484  \n",
       "Clouds       0.018179  \n",
       "Wind_Speed   0.035239  \n",
       "date         1.000000  "
      ]
     },
     "execution_count": 22,
     "metadata": {},
     "output_type": "execute_result"
    }
   ],
   "source": [
    "northern_hemisphere.corr() "
   ]
  },
  {
   "cell_type": "code",
   "execution_count": 23,
   "metadata": {},
   "outputs": [
    {
     "data": {
      "text/plain": [
       "<AxesSubplot:>"
      ]
     },
     "execution_count": 23,
     "metadata": {},
     "output_type": "execute_result"
    },
    {
     "data": {
      "image/png": "[encoded data removed]",
      "text/plain": [
       "<Figure size 432x288 with 2 Axes>"
      ]
     },
     "metadata": {
      "needs_background": "light"
     },
     "output_type": "display_data"
    }
   ],
   "source": [
    " sns.heatmap(northern_hemisphere.corr())"
   ]
  },
  {
   "cell_type": "code",
   "execution_count": 24,
   "metadata": {},
   "outputs": [],
   "source": [
    "feature = northern_hemisphere[[\"Lat\"]]\n",
    "target = northern_hemisphere[\"Temperature\"]"
   ]
  },
  {
   "cell_type": "code",
   "execution_count": 25,
   "metadata": {},
   "outputs": [
    {
     "data": {
      "text/html": [
       "<table class=\"simpletable\">\n",
       "<caption>OLS Regression Results</caption>\n",
       "<tr>\n",
       "  <th>Dep. Variable:</th>       <td>Temperature</td>   <th>  R-squared:         </th> <td>   0.640</td>\n",
       "</tr>\n",
       "<tr>\n",
       "  <th>Model:</th>                   <td>OLS</td>       <th>  Adj. R-squared:    </th> <td>   0.639</td>\n",
       "</tr>\n",
       "<tr>\n",
       "  <th>Method:</th>             <td>Least Squares</td>  <th>  F-statistic:       </th> <td>   688.1</td>\n",
       "</tr>\n",
       "<tr>\n",
       "  <th>Date:</th>             <td>Sun, 05 Sep 2021</td> <th>  Prob (F-statistic):</th> <td>6.94e-88</td>\n",
       "</tr>\n",
       "<tr>\n",
       "  <th>Time:</th>                 <td>22:36:00</td>     <th>  Log-Likelihood:    </th> <td> -1177.1</td>\n",
       "</tr>\n",
       "<tr>\n",
       "  <th>No. Observations:</th>      <td>   389</td>      <th>  AIC:               </th> <td>   2358.</td>\n",
       "</tr>\n",
       "<tr>\n",
       "  <th>Df Residuals:</th>          <td>   387</td>      <th>  BIC:               </th> <td>   2366.</td>\n",
       "</tr>\n",
       "<tr>\n",
       "  <th>Df Model:</th>              <td>     1</td>      <th>                     </th>     <td> </td>   \n",
       "</tr>\n",
       "<tr>\n",
       "  <th>Covariance Type:</th>      <td>nonrobust</td>    <th>                     </th>     <td> </td>   \n",
       "</tr>\n",
       "</table>\n",
       "<table class=\"simpletable\">\n",
       "<tr>\n",
       "    <td></td>       <th>coef</th>     <th>std err</th>      <th>t</th>      <th>P>|t|</th>  <th>[0.025</th>    <th>0.975]</th>  \n",
       "</tr>\n",
       "<tr>\n",
       "  <th>const</th> <td>   31.2554</td> <td>    0.536</td> <td>   58.317</td> <td> 0.000</td> <td>   30.202</td> <td>   32.309</td>\n",
       "</tr>\n",
       "<tr>\n",
       "  <th>Lat</th>   <td>   -0.3295</td> <td>    0.013</td> <td>  -26.231</td> <td> 0.000</td> <td>   -0.354</td> <td>   -0.305</td>\n",
       "</tr>\n",
       "</table>\n",
       "<table class=\"simpletable\">\n",
       "<tr>\n",
       "  <th>Omnibus:</th>       <td> 5.031</td> <th>  Durbin-Watson:     </th> <td>   2.009</td>\n",
       "</tr>\n",
       "<tr>\n",
       "  <th>Prob(Omnibus):</th> <td> 0.081</td> <th>  Jarque-Bera (JB):  </th> <td>   5.219</td>\n",
       "</tr>\n",
       "<tr>\n",
       "  <th>Skew:</th>          <td>-0.186</td> <th>  Prob(JB):          </th> <td>  0.0736</td>\n",
       "</tr>\n",
       "<tr>\n",
       "  <th>Kurtosis:</th>      <td> 3.429</td> <th>  Cond. No.          </th> <td>    90.2</td>\n",
       "</tr>\n",
       "</table><br/><br/>Notes:<br/>[1] Standard Errors assume that the covariance matrix of the errors is correctly specified."
      ],
      "text/plain": [
       "<class 'statsmodels.iolib.summary.Summary'>\n",
       "\"\"\"\n",
       "                            OLS Regression Results                            \n",
       "==============================================================================\n",
       "Dep. Variable:            Temperature   R-squared:                       0.640\n",
       "Model:                            OLS   Adj. R-squared:                  0.639\n",
       "Method:                 Least Squares   F-statistic:                     688.1\n",
       "Date:                Sun, 05 Sep 2021   Prob (F-statistic):           6.94e-88\n",
       "Time:                        22:36:00   Log-Likelihood:                -1177.1\n",
       "No. Observations:                 389   AIC:                             2358.\n",
       "Df Residuals:                     387   BIC:                             2366.\n",
       "Df Model:                           1                                         \n",
       "Covariance Type:            nonrobust                                         \n",
       "==============================================================================\n",
       "                 coef    std err          t      P>|t|      [0.025      0.975]\n",
       "------------------------------------------------------------------------------\n",
       "const         31.2554      0.536     58.317      0.000      30.202      32.309\n",
       "Lat           -0.3295      0.013    -26.231      0.000      -0.354      -0.305\n",
       "==============================================================================\n",
       "Omnibus:                        5.031   Durbin-Watson:                   2.009\n",
       "Prob(Omnibus):                  0.081   Jarque-Bera (JB):                5.219\n",
       "Skew:                          -0.186   Prob(JB):                       0.0736\n",
       "Kurtosis:                       3.429   Cond. No.                         90.2\n",
       "==============================================================================\n",
       "\n",
       "Notes:\n",
       "[1] Standard Errors assume that the covariance matrix of the errors is correctly specified.\n",
       "\"\"\""
      ]
     },
     "execution_count": 25,
     "metadata": {},
     "output_type": "execute_result"
    }
   ],
   "source": [
    " # STATSMODELS\n",
    "X = sm.add_constant(feature)\n",
    "Y = target\n",
    "\n",
    "model = sm.OLS(Y,X)\n",
    "results = model.fit()\n",
    "results.summary()"
   ]
  },
  {
   "cell_type": "code",
   "execution_count": null,
   "metadata": {},
   "outputs": [],
   "source": [
    "results.mse_resid"
   ]
  },
  {
   "cell_type": "code",
   "execution_count": 26,
   "metadata": {},
   "outputs": [
    {
     "name": "stdout",
     "output_type": "stream",
     "text": [
      "The r-squared is: 0.6400302585334596\n"
     ]
    },
    {
     "data": {
      "image/png": "[encoded data removed]",
      "text/plain": [
       "<Figure size 432x288 with 1 Axes>"
      ]
     },
     "metadata": {
      "needs_background": "light"
     },
     "output_type": "display_data"
    }
   ],
   "source": [
    "# make plot\n",
    "plt.scatter(northern_hemisphere.Lat, northern_hemisphere.Temperature)\n",
    "\n",
    "plt.plot(northern_hemisphere.Lat, results.fittedvalues, \"r-\")\n",
    "\n",
    "plt.annotate(\"y = -0.33x + 31.22\", (7,5), fontsize=15,color=\"red\")\n",
    "\n",
    "plt.xlabel('Latitude')\n",
    "plt.ylabel('Temperature')\n",
    "print(f\"The r-squared is: {results.rsquared}\")\n",
    "plt.show()"
   ]
  },
  {
   "cell_type": "markdown",
   "metadata": {},
   "source": [
    "####  Southern Hemisphere - Max Temp vs. Latitude Linear Regression"
   ]
  },
  {
   "cell_type": "code",
   "execution_count": 27,
   "metadata": {},
   "outputs": [
    {
     "data": {
      "text/plain": [
       "Text(0, 0.5, 'Temperature')"
      ]
     },
     "execution_count": 27,
     "metadata": {},
     "output_type": "execute_result"
    },
    {
     "data": {
      "image/png": "[encoded data removed]",
      "text/plain": [
       "<Figure size 720x576 with 1 Axes>"
      ]
     },
     "metadata": {
      "needs_background": "light"
     },
     "output_type": "display_data"
    }
   ],
   "source": [
    "plt.figure(figsize = (10,8))\n",
    "a=sns.scatterplot(x='Lat', y=\"Temperature\", data=southern_hemisphere, palette = \"nipy_spectral\", edgecolor=\"black\")\n",
    "a.yaxis.grid(True) # Hide the horizontal gridlines\n",
    "a.xaxis.grid(True) # Show the vertical gridlines\n",
    "plt.title(\"Southern Hemisphere - Temp vs. Latitude Linear Regression\", size=18)\n",
    "plt.xlabel(\"Latitude\", size=14)\n",
    "plt.ylabel(\"Temperature\", size=14)\n",
    "# plt.tight_layout()\n",
    "# plt.savefig(\"output_data/Northern_Lat_Temp_Regression.png\")"
   ]
  },
  {
   "cell_type": "code",
   "execution_count": 28,
   "metadata": {},
   "outputs": [
    {
     "data": {
      "text/html": [
       "<div>\n",
       "<style scoped>\n",
       "    .dataframe tbody tr th:only-of-type {\n",
       "        vertical-align: middle;\n",
       "    }\n",
       "\n",
       "    .dataframe tbody tr th {\n",
       "        vertical-align: top;\n",
       "    }\n",
       "\n",
       "    .dataframe thead th {\n",
       "        text-align: right;\n",
       "    }\n",
       "</style>\n",
       "<table border=\"1\" class=\"dataframe\">\n",
       "  <thead>\n",
       "    <tr style=\"text-align: right;\">\n",
       "      <th></th>\n",
       "      <th>Lat</th>\n",
       "      <th>Lng</th>\n",
       "      <th>Temperature</th>\n",
       "      <th>Humidity</th>\n",
       "      <th>Clouds</th>\n",
       "      <th>Wind_Speed</th>\n",
       "      <th>date</th>\n",
       "    </tr>\n",
       "  </thead>\n",
       "  <tbody>\n",
       "    <tr>\n",
       "      <th>Lat</th>\n",
       "      <td>1.000000</td>\n",
       "      <td>-0.047222</td>\n",
       "      <td>0.756882</td>\n",
       "      <td>0.135673</td>\n",
       "      <td>0.101403</td>\n",
       "      <td>-0.111186</td>\n",
       "      <td>0.149176</td>\n",
       "    </tr>\n",
       "    <tr>\n",
       "      <th>Lng</th>\n",
       "      <td>-0.047222</td>\n",
       "      <td>1.000000</td>\n",
       "      <td>0.278414</td>\n",
       "      <td>-0.466508</td>\n",
       "      <td>0.060395</td>\n",
       "      <td>0.349221</td>\n",
       "      <td>0.052009</td>\n",
       "    </tr>\n",
       "    <tr>\n",
       "      <th>Temperature</th>\n",
       "      <td>0.756882</td>\n",
       "      <td>0.278414</td>\n",
       "      <td>1.000000</td>\n",
       "      <td>-0.227841</td>\n",
       "      <td>0.063379</td>\n",
       "      <td>0.185487</td>\n",
       "      <td>0.133686</td>\n",
       "    </tr>\n",
       "    <tr>\n",
       "      <th>Humidity</th>\n",
       "      <td>0.135673</td>\n",
       "      <td>-0.466508</td>\n",
       "      <td>-0.227841</td>\n",
       "      <td>1.000000</td>\n",
       "      <td>0.242896</td>\n",
       "      <td>-0.280588</td>\n",
       "      <td>-0.077947</td>\n",
       "    </tr>\n",
       "    <tr>\n",
       "      <th>Clouds</th>\n",
       "      <td>0.101403</td>\n",
       "      <td>0.060395</td>\n",
       "      <td>0.063379</td>\n",
       "      <td>0.242896</td>\n",
       "      <td>1.000000</td>\n",
       "      <td>-0.092921</td>\n",
       "      <td>-0.032450</td>\n",
       "    </tr>\n",
       "    <tr>\n",
       "      <th>Wind_Speed</th>\n",
       "      <td>-0.111186</td>\n",
       "      <td>0.349221</td>\n",
       "      <td>0.185487</td>\n",
       "      <td>-0.280588</td>\n",
       "      <td>-0.092921</td>\n",
       "      <td>1.000000</td>\n",
       "      <td>-0.008918</td>\n",
       "    </tr>\n",
       "    <tr>\n",
       "      <th>date</th>\n",
       "      <td>0.149176</td>\n",
       "      <td>0.052009</td>\n",
       "      <td>0.133686</td>\n",
       "      <td>-0.077947</td>\n",
       "      <td>-0.032450</td>\n",
       "      <td>-0.008918</td>\n",
       "      <td>1.000000</td>\n",
       "    </tr>\n",
       "  </tbody>\n",
       "</table>\n",
       "</div>"
      ],
      "text/plain": [
       "                  Lat       Lng  Temperature  Humidity    Clouds  Wind_Speed  \\\n",
       "Lat          1.000000 -0.047222     0.756882  0.135673  0.101403   -0.111186   \n",
       "Lng         -0.047222  1.000000     0.278414 -0.466508  0.060395    0.349221   \n",
       "Temperature  0.756882  0.278414     1.000000 -0.227841  0.063379    0.185487   \n",
       "Humidity     0.135673 -0.466508    -0.227841  1.000000  0.242896   -0.280588   \n",
       "Clouds       0.101403  0.060395     0.063379  0.242896  1.000000   -0.092921   \n",
       "Wind_Speed  -0.111186  0.349221     0.185487 -0.280588 -0.092921    1.000000   \n",
       "date         0.149176  0.052009     0.133686 -0.077947 -0.032450   -0.008918   \n",
       "\n",
       "                 date  \n",
       "Lat          0.149176  \n",
       "Lng          0.052009  \n",
       "Temperature  0.133686  \n",
       "Humidity    -0.077947  \n",
       "Clouds      -0.032450  \n",
       "Wind_Speed  -0.008918  \n",
       "date         1.000000  "
      ]
     },
     "execution_count": 28,
     "metadata": {},
     "output_type": "execute_result"
    }
   ],
   "source": [
    "southern_hemisphere.corr() "
   ]
  },
  {
   "cell_type": "code",
   "execution_count": 29,
   "metadata": {},
   "outputs": [
    {
     "data": {
      "text/plain": [
       "<AxesSubplot:>"
      ]
     },
     "execution_count": 29,
     "metadata": {},
     "output_type": "execute_result"
    },
    {
     "data": {
      "image/png": "[encoded data removed]",
      "text/plain": [
       "<Figure size 432x288 with 2 Axes>"
      ]
     },
     "metadata": {
      "needs_background": "light"
     },
     "output_type": "display_data"
    }
   ],
   "source": [
    " sns.heatmap(southern_hemisphere.corr())"
   ]
  },
  {
   "cell_type": "code",
   "execution_count": 30,
   "metadata": {},
   "outputs": [],
   "source": [
    "feature1 = southern_hemisphere[[\"Lat\"]]\n",
    "target1 = southern_hemisphere[\"Temperature\"]"
   ]
  },
  {
   "cell_type": "code",
   "execution_count": 31,
   "metadata": {},
   "outputs": [
    {
     "data": {
      "text/html": [
       "<table class=\"simpletable\">\n",
       "<caption>OLS Regression Results</caption>\n",
       "<tr>\n",
       "  <th>Dep. Variable:</th>       <td>Temperature</td>   <th>  R-squared:         </th> <td>   0.573</td>\n",
       "</tr>\n",
       "<tr>\n",
       "  <th>Model:</th>                   <td>OLS</td>       <th>  Adj. R-squared:    </th> <td>   0.570</td>\n",
       "</tr>\n",
       "<tr>\n",
       "  <th>Method:</th>             <td>Least Squares</td>  <th>  F-statistic:       </th> <td>   240.1</td>\n",
       "</tr>\n",
       "<tr>\n",
       "  <th>Date:</th>             <td>Sun, 05 Sep 2021</td> <th>  Prob (F-statistic):</th> <td>6.75e-35</td>\n",
       "</tr>\n",
       "<tr>\n",
       "  <th>Time:</th>                 <td>22:36:58</td>     <th>  Log-Likelihood:    </th> <td> -522.09</td>\n",
       "</tr>\n",
       "<tr>\n",
       "  <th>No. Observations:</th>      <td>   181</td>      <th>  AIC:               </th> <td>   1048.</td>\n",
       "</tr>\n",
       "<tr>\n",
       "  <th>Df Residuals:</th>          <td>   179</td>      <th>  BIC:               </th> <td>   1055.</td>\n",
       "</tr>\n",
       "<tr>\n",
       "  <th>Df Model:</th>              <td>     1</td>      <th>                     </th>     <td> </td>   \n",
       "</tr>\n",
       "<tr>\n",
       "  <th>Covariance Type:</th>      <td>nonrobust</td>    <th>                     </th>     <td> </td>   \n",
       "</tr>\n",
       "</table>\n",
       "<table class=\"simpletable\">\n",
       "<tr>\n",
       "    <td></td>       <th>coef</th>     <th>std err</th>      <th>t</th>      <th>P>|t|</th>  <th>[0.025</th>    <th>0.975]</th>  \n",
       "</tr>\n",
       "<tr>\n",
       "  <th>const</th> <td>   27.7824</td> <td>    0.592</td> <td>   46.940</td> <td> 0.000</td> <td>   26.614</td> <td>   28.950</td>\n",
       "</tr>\n",
       "<tr>\n",
       "  <th>Lat</th>   <td>    0.3677</td> <td>    0.024</td> <td>   15.494</td> <td> 0.000</td> <td>    0.321</td> <td>    0.415</td>\n",
       "</tr>\n",
       "</table>\n",
       "<table class=\"simpletable\">\n",
       "<tr>\n",
       "  <th>Omnibus:</th>       <td> 2.375</td> <th>  Durbin-Watson:     </th> <td>   1.975</td>\n",
       "</tr>\n",
       "<tr>\n",
       "  <th>Prob(Omnibus):</th> <td> 0.305</td> <th>  Jarque-Bera (JB):  </th> <td>   2.404</td>\n",
       "</tr>\n",
       "<tr>\n",
       "  <th>Skew:</th>          <td>-0.272</td> <th>  Prob(JB):          </th> <td>   0.301</td>\n",
       "</tr>\n",
       "<tr>\n",
       "  <th>Kurtosis:</th>      <td> 2.848</td> <th>  Cond. No.          </th> <td>    45.7</td>\n",
       "</tr>\n",
       "</table><br/><br/>Notes:<br/>[1] Standard Errors assume that the covariance matrix of the errors is correctly specified."
      ],
      "text/plain": [
       "<class 'statsmodels.iolib.summary.Summary'>\n",
       "\"\"\"\n",
       "                            OLS Regression Results                            \n",
       "==============================================================================\n",
       "Dep. Variable:            Temperature   R-squared:                       0.573\n",
       "Model:                            OLS   Adj. R-squared:                  0.570\n",
       "Method:                 Least Squares   F-statistic:                     240.1\n",
       "Date:                Sun, 05 Sep 2021   Prob (F-statistic):           6.75e-35\n",
       "Time:                        22:36:58   Log-Likelihood:                -522.09\n",
       "No. Observations:                 181   AIC:                             1048.\n",
       "Df Residuals:                     179   BIC:                             1055.\n",
       "Df Model:                           1                                         \n",
       "Covariance Type:            nonrobust                                         \n",
       "==============================================================================\n",
       "                 coef    std err          t      P>|t|      [0.025      0.975]\n",
       "------------------------------------------------------------------------------\n",
       "const         27.7824      0.592     46.940      0.000      26.614      28.950\n",
       "Lat            0.3677      0.024     15.494      0.000       0.321       0.415\n",
       "==============================================================================\n",
       "Omnibus:                        2.375   Durbin-Watson:                   1.975\n",
       "Prob(Omnibus):                  0.305   Jarque-Bera (JB):                2.404\n",
       "Skew:                          -0.272   Prob(JB):                        0.301\n",
       "Kurtosis:                       2.848   Cond. No.                         45.7\n",
       "==============================================================================\n",
       "\n",
       "Notes:\n",
       "[1] Standard Errors assume that the covariance matrix of the errors is correctly specified.\n",
       "\"\"\""
      ]
     },
     "execution_count": 31,
     "metadata": {},
     "output_type": "execute_result"
    }
   ],
   "source": [
    " # STATSMODELS\n",
    "X = sm.add_constant(feature1)\n",
    "Y = target1\n",
    "\n",
    "model = sm.OLS(Y,X)\n",
    "results = model.fit()\n",
    "results.summary()"
   ]
  },
  {
   "cell_type": "code",
   "execution_count": 32,
   "metadata": {},
   "outputs": [
    {
     "data": {
      "text/plain": [
       "18.957628897717687"
      ]
     },
     "execution_count": 32,
     "metadata": {},
     "output_type": "execute_result"
    }
   ],
   "source": [
    "results.mse_resid"
   ]
  },
  {
   "cell_type": "code",
   "execution_count": 33,
   "metadata": {},
   "outputs": [
    {
     "name": "stdout",
     "output_type": "stream",
     "text": [
      "The r-squared is: 0.5728704021951305\n"
     ]
    },
    {
     "data": {
      "image/png": "[encoded data removed]",
      "text/plain": [
       "<Figure size 432x288 with 1 Axes>"
      ]
     },
     "metadata": {
      "needs_background": "light"
     },
     "output_type": "display_data"
    }
   ],
   "source": [
    "# make plot\n",
    "plt.scatter(southern_hemisphere.Lat, southern_hemisphere.Temperature)\n",
    "\n",
    "plt.plot(southern_hemisphere.Lat, results.fittedvalues, \"r-\")\n",
    "\n",
    "plt.annotate(\"y = 0.36x + 27.78\", (-50,25), fontsize=15,color=\"red\")\n",
    "\n",
    "plt.xlabel('Latitude')\n",
    "plt.ylabel('Temperature')\n",
    "print(f\"The r-squared is: {results.rsquared}\")\n",
    "plt.show()"
   ]
  },
  {
   "cell_type": "markdown",
   "metadata": {},
   "source": [
    "####  Northern Hemisphere - Humidity (%) vs. Latitude Linear Regression"
   ]
  },
  {
   "cell_type": "code",
   "execution_count": 34,
   "metadata": {},
   "outputs": [],
   "source": [
    "feature2 = northern_hemisphere[[\"Lat\"]]\n",
    "target2 = northern_hemisphere[\"Humidity\"]"
   ]
  },
  {
   "cell_type": "code",
   "execution_count": 35,
   "metadata": {},
   "outputs": [
    {
     "data": {
      "text/html": [
       "<table class=\"simpletable\">\n",
       "<caption>OLS Regression Results</caption>\n",
       "<tr>\n",
       "  <th>Dep. Variable:</th>        <td>Humidity</td>     <th>  R-squared:         </th> <td>   0.001</td>\n",
       "</tr>\n",
       "<tr>\n",
       "  <th>Model:</th>                   <td>OLS</td>       <th>  Adj. R-squared:    </th> <td>  -0.001</td>\n",
       "</tr>\n",
       "<tr>\n",
       "  <th>Method:</th>             <td>Least Squares</td>  <th>  F-statistic:       </th> <td>  0.4643</td>\n",
       "</tr>\n",
       "<tr>\n",
       "  <th>Date:</th>             <td>Sun, 05 Sep 2021</td> <th>  Prob (F-statistic):</th>  <td> 0.496</td> \n",
       "</tr>\n",
       "<tr>\n",
       "  <th>Time:</th>                 <td>22:37:30</td>     <th>  Log-Likelihood:    </th> <td> -1759.7</td>\n",
       "</tr>\n",
       "<tr>\n",
       "  <th>No. Observations:</th>      <td>   389</td>      <th>  AIC:               </th> <td>   3523.</td>\n",
       "</tr>\n",
       "<tr>\n",
       "  <th>Df Residuals:</th>          <td>   387</td>      <th>  BIC:               </th> <td>   3531.</td>\n",
       "</tr>\n",
       "<tr>\n",
       "  <th>Df Model:</th>              <td>     1</td>      <th>                     </th>     <td> </td>   \n",
       "</tr>\n",
       "<tr>\n",
       "  <th>Covariance Type:</th>      <td>nonrobust</td>    <th>                     </th>     <td> </td>   \n",
       "</tr>\n",
       "</table>\n",
       "<table class=\"simpletable\">\n",
       "<tr>\n",
       "    <td></td>       <th>coef</th>     <th>std err</th>      <th>t</th>      <th>P>|t|</th>  <th>[0.025</th>    <th>0.975]</th>  \n",
       "</tr>\n",
       "<tr>\n",
       "  <th>const</th> <td>   73.6211</td> <td>    2.396</td> <td>   30.722</td> <td> 0.000</td> <td>   68.910</td> <td>   78.333</td>\n",
       "</tr>\n",
       "<tr>\n",
       "  <th>Lat</th>   <td>   -0.0383</td> <td>    0.056</td> <td>   -0.681</td> <td> 0.496</td> <td>   -0.149</td> <td>    0.072</td>\n",
       "</tr>\n",
       "</table>\n",
       "<table class=\"simpletable\">\n",
       "<tr>\n",
       "  <th>Omnibus:</th>       <td>59.814</td> <th>  Durbin-Watson:     </th> <td>   2.016</td>\n",
       "</tr>\n",
       "<tr>\n",
       "  <th>Prob(Omnibus):</th> <td> 0.000</td> <th>  Jarque-Bera (JB):  </th> <td>  83.986</td>\n",
       "</tr>\n",
       "<tr>\n",
       "  <th>Skew:</th>          <td>-1.119</td> <th>  Prob(JB):          </th> <td>5.79e-19</td>\n",
       "</tr>\n",
       "<tr>\n",
       "  <th>Kurtosis:</th>      <td> 3.415</td> <th>  Cond. No.          </th> <td>    90.2</td>\n",
       "</tr>\n",
       "</table><br/><br/>Notes:<br/>[1] Standard Errors assume that the covariance matrix of the errors is correctly specified."
      ],
      "text/plain": [
       "<class 'statsmodels.iolib.summary.Summary'>\n",
       "\"\"\"\n",
       "                            OLS Regression Results                            \n",
       "==============================================================================\n",
       "Dep. Variable:               Humidity   R-squared:                       0.001\n",
       "Model:                            OLS   Adj. R-squared:                 -0.001\n",
       "Method:                 Least Squares   F-statistic:                    0.4643\n",
       "Date:                Sun, 05 Sep 2021   Prob (F-statistic):              0.496\n",
       "Time:                        22:37:30   Log-Likelihood:                -1759.7\n",
       "No. Observations:                 389   AIC:                             3523.\n",
       "Df Residuals:                     387   BIC:                             3531.\n",
       "Df Model:                           1                                         \n",
       "Covariance Type:            nonrobust                                         \n",
       "==============================================================================\n",
       "                 coef    std err          t      P>|t|      [0.025      0.975]\n",
       "------------------------------------------------------------------------------\n",
       "const         73.6211      2.396     30.722      0.000      68.910      78.333\n",
       "Lat           -0.0383      0.056     -0.681      0.496      -0.149       0.072\n",
       "==============================================================================\n",
       "Omnibus:                       59.814   Durbin-Watson:                   2.016\n",
       "Prob(Omnibus):                  0.000   Jarque-Bera (JB):               83.986\n",
       "Skew:                          -1.119   Prob(JB):                     5.79e-19\n",
       "Kurtosis:                       3.415   Cond. No.                         90.2\n",
       "==============================================================================\n",
       "\n",
       "Notes:\n",
       "[1] Standard Errors assume that the covariance matrix of the errors is correctly specified.\n",
       "\"\"\""
      ]
     },
     "execution_count": 35,
     "metadata": {},
     "output_type": "execute_result"
    }
   ],
   "source": [
    " # STATSMODELS\n",
    "X = sm.add_constant(feature2)\n",
    "Y = target2\n",
    "\n",
    "model = sm.OLS(Y,X)\n",
    "results = model.fit()\n",
    "results.summary()"
   ]
  },
  {
   "cell_type": "code",
   "execution_count": 36,
   "metadata": {},
   "outputs": [
    {
     "data": {
      "text/plain": [
       "499.90686735454847"
      ]
     },
     "execution_count": 36,
     "metadata": {},
     "output_type": "execute_result"
    }
   ],
   "source": [
    "results.mse_resid"
   ]
  },
  {
   "cell_type": "code",
   "execution_count": 39,
   "metadata": {},
   "outputs": [
    {
     "name": "stdout",
     "output_type": "stream",
     "text": [
      "The r-squared is: 0.00119818383246173\n"
     ]
    },
    {
     "data": {
      "image/png": "[encoded data removed]",
      "text/plain": [
       "<Figure size 432x288 with 1 Axes>"
      ]
     },
     "metadata": {
      "needs_background": "light"
     },
     "output_type": "display_data"
    }
   ],
   "source": [
    "# make plot\n",
    "plt.scatter(northern_hemisphere.Lat, northern_hemisphere.Humidity)\n",
    "\n",
    "plt.plot(northern_hemisphere.Lat, results.fittedvalues, \"r-\")\n",
    "\n",
    "plt.annotate(\"y = -0.04x + 73.62\", (0,28), fontsize=15,color=\"red\")\n",
    "\n",
    "plt.xlabel('Latitude')\n",
    "plt.ylabel('Humidity')\n",
    "print(f\"The r-squared is: {results.rsquared}\")\n",
    "plt.show()"
   ]
  },
  {
   "cell_type": "markdown",
   "metadata": {},
   "source": [
    "####  Southern Hemisphere - Humidity (%) vs. Latitude Linear Regression"
   ]
  },
  {
   "cell_type": "code",
   "execution_count": 40,
   "metadata": {},
   "outputs": [],
   "source": [
    "feature3 = southern_hemisphere[[\"Lat\"]]\n",
    "target3 = southern_hemisphere[\"Humidity\"]"
   ]
  },
  {
   "cell_type": "code",
   "execution_count": 41,
   "metadata": {},
   "outputs": [
    {
     "data": {
      "text/html": [
       "<table class=\"simpletable\">\n",
       "<caption>OLS Regression Results</caption>\n",
       "<tr>\n",
       "  <th>Dep. Variable:</th>        <td>Humidity</td>     <th>  R-squared:         </th> <td>   0.018</td>\n",
       "</tr>\n",
       "<tr>\n",
       "  <th>Model:</th>                   <td>OLS</td>       <th>  Adj. R-squared:    </th> <td>   0.013</td>\n",
       "</tr>\n",
       "<tr>\n",
       "  <th>Method:</th>             <td>Least Squares</td>  <th>  F-statistic:       </th> <td>   3.357</td>\n",
       "</tr>\n",
       "<tr>\n",
       "  <th>Date:</th>             <td>Sun, 05 Sep 2021</td> <th>  Prob (F-statistic):</th>  <td>0.0686</td> \n",
       "</tr>\n",
       "<tr>\n",
       "  <th>Time:</th>                 <td>22:38:32</td>     <th>  Log-Likelihood:    </th> <td> -786.77</td>\n",
       "</tr>\n",
       "<tr>\n",
       "  <th>No. Observations:</th>      <td>   181</td>      <th>  AIC:               </th> <td>   1578.</td>\n",
       "</tr>\n",
       "<tr>\n",
       "  <th>Df Residuals:</th>          <td>   179</td>      <th>  BIC:               </th> <td>   1584.</td>\n",
       "</tr>\n",
       "<tr>\n",
       "  <th>Df Model:</th>              <td>     1</td>      <th>                     </th>     <td> </td>   \n",
       "</tr>\n",
       "<tr>\n",
       "  <th>Covariance Type:</th>      <td>nonrobust</td>    <th>                     </th>     <td> </td>   \n",
       "</tr>\n",
       "</table>\n",
       "<table class=\"simpletable\">\n",
       "<tr>\n",
       "    <td></td>       <th>coef</th>     <th>std err</th>      <th>t</th>      <th>P>|t|</th>  <th>[0.025</th>    <th>0.975]</th>  \n",
       "</tr>\n",
       "<tr>\n",
       "  <th>const</th> <td>   72.0897</td> <td>    2.554</td> <td>   28.221</td> <td> 0.000</td> <td>   67.049</td> <td>   77.130</td>\n",
       "</tr>\n",
       "<tr>\n",
       "  <th>Lat</th>   <td>    0.1877</td> <td>    0.102</td> <td>    1.832</td> <td> 0.069</td> <td>   -0.014</td> <td>    0.390</td>\n",
       "</tr>\n",
       "</table>\n",
       "<table class=\"simpletable\">\n",
       "<tr>\n",
       "  <th>Omnibus:</th>       <td> 5.833</td> <th>  Durbin-Watson:     </th> <td>   1.990</td>\n",
       "</tr>\n",
       "<tr>\n",
       "  <th>Prob(Omnibus):</th> <td> 0.054</td> <th>  Jarque-Bera (JB):  </th> <td>   5.870</td>\n",
       "</tr>\n",
       "<tr>\n",
       "  <th>Skew:</th>          <td>-0.440</td> <th>  Prob(JB):          </th> <td>  0.0531</td>\n",
       "</tr>\n",
       "<tr>\n",
       "  <th>Kurtosis:</th>      <td> 2.949</td> <th>  Cond. No.          </th> <td>    45.7</td>\n",
       "</tr>\n",
       "</table><br/><br/>Notes:<br/>[1] Standard Errors assume that the covariance matrix of the errors is correctly specified."
      ],
      "text/plain": [
       "<class 'statsmodels.iolib.summary.Summary'>\n",
       "\"\"\"\n",
       "                            OLS Regression Results                            \n",
       "==============================================================================\n",
       "Dep. Variable:               Humidity   R-squared:                       0.018\n",
       "Model:                            OLS   Adj. R-squared:                  0.013\n",
       "Method:                 Least Squares   F-statistic:                     3.357\n",
       "Date:                Sun, 05 Sep 2021   Prob (F-statistic):             0.0686\n",
       "Time:                        22:38:32   Log-Likelihood:                -786.77\n",
       "No. Observations:                 181   AIC:                             1578.\n",
       "Df Residuals:                     179   BIC:                             1584.\n",
       "Df Model:                           1                                         \n",
       "Covariance Type:            nonrobust                                         \n",
       "==============================================================================\n",
       "                 coef    std err          t      P>|t|      [0.025      0.975]\n",
       "------------------------------------------------------------------------------\n",
       "const         72.0897      2.554     28.221      0.000      67.049      77.130\n",
       "Lat            0.1877      0.102      1.832      0.069      -0.014       0.390\n",
       "==============================================================================\n",
       "Omnibus:                        5.833   Durbin-Watson:                   1.990\n",
       "Prob(Omnibus):                  0.054   Jarque-Bera (JB):                5.870\n",
       "Skew:                          -0.440   Prob(JB):                       0.0531\n",
       "Kurtosis:                       2.949   Cond. No.                         45.7\n",
       "==============================================================================\n",
       "\n",
       "Notes:\n",
       "[1] Standard Errors assume that the covariance matrix of the errors is correctly specified.\n",
       "\"\"\""
      ]
     },
     "execution_count": 41,
     "metadata": {},
     "output_type": "execute_result"
    }
   ],
   "source": [
    " # STATSMODELS\n",
    "X = sm.add_constant(feature3)\n",
    "Y = target3\n",
    "\n",
    "model = sm.OLS(Y,X)\n",
    "results = model.fit()\n",
    "results.summary()"
   ]
  },
  {
   "cell_type": "code",
   "execution_count": 42,
   "metadata": {},
   "outputs": [
    {
     "data": {
      "text/plain": [
       "353.1194754749408"
      ]
     },
     "execution_count": 42,
     "metadata": {},
     "output_type": "execute_result"
    }
   ],
   "source": [
    "results.mse_resid"
   ]
  },
  {
   "cell_type": "code",
   "execution_count": 45,
   "metadata": {},
   "outputs": [
    {
     "name": "stdout",
     "output_type": "stream",
     "text": [
      "The r-squared is: 0.018407152727755283\n"
     ]
    },
    {
     "data": {
      "image/png": "[encoded data removed]",
      "text/plain": [
       "<Figure size 432x288 with 1 Axes>"
      ]
     },
     "metadata": {
      "needs_background": "light"
     },
     "output_type": "display_data"
    }
   ],
   "source": [
    "# make plot\n",
    "plt.scatter(southern_hemisphere.Lat, southern_hemisphere.Humidity)\n",
    "\n",
    "plt.plot(southern_hemisphere.Lat, results.fittedvalues, \"r-\")\n",
    "\n",
    "plt.annotate(\"y = 0.19x + 72.09\", (-55,30), fontsize=15,color=\"red\")\n",
    "\n",
    "plt.xlabel('Latitude')\n",
    "plt.ylabel('Humidity')\n",
    "print(f\"The r-squared is: {results.rsquared}\")\n",
    "plt.show()"
   ]
  },
  {
   "cell_type": "markdown",
   "metadata": {},
   "source": [
    "####  Northern Hemisphere - Cloudiness (%) vs. Latitude Linear Regression"
   ]
  },
  {
   "cell_type": "code",
   "execution_count": 46,
   "metadata": {},
   "outputs": [],
   "source": [
    "feature4 = northern_hemisphere[[\"Lat\"]]\n",
    "target4 = northern_hemisphere[\"Clouds\"]"
   ]
  },
  {
   "cell_type": "code",
   "execution_count": 47,
   "metadata": {},
   "outputs": [
    {
     "data": {
      "text/html": [
       "<table class=\"simpletable\">\n",
       "<caption>OLS Regression Results</caption>\n",
       "<tr>\n",
       "  <th>Dep. Variable:</th>         <td>Clouds</td>      <th>  R-squared:         </th> <td>   0.002</td>\n",
       "</tr>\n",
       "<tr>\n",
       "  <th>Model:</th>                   <td>OLS</td>       <th>  Adj. R-squared:    </th> <td>  -0.000</td>\n",
       "</tr>\n",
       "<tr>\n",
       "  <th>Method:</th>             <td>Least Squares</td>  <th>  F-statistic:       </th> <td>  0.8427</td>\n",
       "</tr>\n",
       "<tr>\n",
       "  <th>Date:</th>             <td>Sun, 05 Sep 2021</td> <th>  Prob (F-statistic):</th>  <td> 0.359</td> \n",
       "</tr>\n",
       "<tr>\n",
       "  <th>Time:</th>                 <td>22:39:31</td>     <th>  Log-Likelihood:    </th> <td> -1995.7</td>\n",
       "</tr>\n",
       "<tr>\n",
       "  <th>No. Observations:</th>      <td>   389</td>      <th>  AIC:               </th> <td>   3995.</td>\n",
       "</tr>\n",
       "<tr>\n",
       "  <th>Df Residuals:</th>          <td>   387</td>      <th>  BIC:               </th> <td>   4003.</td>\n",
       "</tr>\n",
       "<tr>\n",
       "  <th>Df Model:</th>              <td>     1</td>      <th>                     </th>     <td> </td>   \n",
       "</tr>\n",
       "<tr>\n",
       "  <th>Covariance Type:</th>      <td>nonrobust</td>    <th>                     </th>     <td> </td>   \n",
       "</tr>\n",
       "</table>\n",
       "<table class=\"simpletable\">\n",
       "<tr>\n",
       "    <td></td>       <th>coef</th>     <th>std err</th>      <th>t</th>      <th>P>|t|</th>  <th>[0.025</th>    <th>0.975]</th>  \n",
       "</tr>\n",
       "<tr>\n",
       "  <th>const</th> <td>   54.0103</td> <td>    4.396</td> <td>   12.287</td> <td> 0.000</td> <td>   45.368</td> <td>   62.653</td>\n",
       "</tr>\n",
       "<tr>\n",
       "  <th>Lat</th>   <td>    0.0946</td> <td>    0.103</td> <td>    0.918</td> <td> 0.359</td> <td>   -0.108</td> <td>    0.297</td>\n",
       "</tr>\n",
       "</table>\n",
       "<table class=\"simpletable\">\n",
       "<tr>\n",
       "  <th>Omnibus:</th>       <td>2740.207</td> <th>  Durbin-Watson:     </th> <td>   2.004</td>\n",
       "</tr>\n",
       "<tr>\n",
       "  <th>Prob(Omnibus):</th>  <td> 0.000</td>  <th>  Jarque-Bera (JB):  </th> <td>  49.662</td>\n",
       "</tr>\n",
       "<tr>\n",
       "  <th>Skew:</th>           <td>-0.356</td>  <th>  Prob(JB):          </th> <td>1.64e-11</td>\n",
       "</tr>\n",
       "<tr>\n",
       "  <th>Kurtosis:</th>       <td> 1.401</td>  <th>  Cond. No.          </th> <td>    90.2</td>\n",
       "</tr>\n",
       "</table><br/><br/>Notes:<br/>[1] Standard Errors assume that the covariance matrix of the errors is correctly specified."
      ],
      "text/plain": [
       "<class 'statsmodels.iolib.summary.Summary'>\n",
       "\"\"\"\n",
       "                            OLS Regression Results                            \n",
       "==============================================================================\n",
       "Dep. Variable:                 Clouds   R-squared:                       0.002\n",
       "Model:                            OLS   Adj. R-squared:                 -0.000\n",
       "Method:                 Least Squares   F-statistic:                    0.8427\n",
       "Date:                Sun, 05 Sep 2021   Prob (F-statistic):              0.359\n",
       "Time:                        22:39:31   Log-Likelihood:                -1995.7\n",
       "No. Observations:                 389   AIC:                             3995.\n",
       "Df Residuals:                     387   BIC:                             4003.\n",
       "Df Model:                           1                                         \n",
       "Covariance Type:            nonrobust                                         \n",
       "==============================================================================\n",
       "                 coef    std err          t      P>|t|      [0.025      0.975]\n",
       "------------------------------------------------------------------------------\n",
       "const         54.0103      4.396     12.287      0.000      45.368      62.653\n",
       "Lat            0.0946      0.103      0.918      0.359      -0.108       0.297\n",
       "==============================================================================\n",
       "Omnibus:                     2740.207   Durbin-Watson:                   2.004\n",
       "Prob(Omnibus):                  0.000   Jarque-Bera (JB):               49.662\n",
       "Skew:                          -0.356   Prob(JB):                     1.64e-11\n",
       "Kurtosis:                       1.401   Cond. No.                         90.2\n",
       "==============================================================================\n",
       "\n",
       "Notes:\n",
       "[1] Standard Errors assume that the covariance matrix of the errors is correctly specified.\n",
       "\"\"\""
      ]
     },
     "execution_count": 47,
     "metadata": {},
     "output_type": "execute_result"
    }
   ],
   "source": [
    " # STATSMODELS\n",
    "X = sm.add_constant(feature4)\n",
    "Y = target4\n",
    "\n",
    "model = sm.OLS(Y,X)\n",
    "results = model.fit()\n",
    "results.summary()"
   ]
  },
  {
   "cell_type": "code",
   "execution_count": 48,
   "metadata": {},
   "outputs": [
    {
     "data": {
      "text/plain": [
       "1682.0466357764751"
      ]
     },
     "execution_count": 48,
     "metadata": {},
     "output_type": "execute_result"
    }
   ],
   "source": [
    "results.mse_resid"
   ]
  },
  {
   "cell_type": "code",
   "execution_count": 49,
   "metadata": {},
   "outputs": [
    {
     "name": "stdout",
     "output_type": "stream",
     "text": [
      "The r-squared is: 0.002172894640698919\n"
     ]
    },
    {
     "data": {
      "image/png": "[encoded data removed]",
      "text/plain": [
       "<Figure size 432x288 with 1 Axes>"
      ]
     },
     "metadata": {
      "needs_background": "light"
     },
     "output_type": "display_data"
    }
   ],
   "source": [
    "# make plot\n",
    "plt.scatter(northern_hemisphere.Lat, northern_hemisphere.Clouds)\n",
    "\n",
    "plt.plot(northern_hemisphere.Lat, results.fittedvalues, \"r-\")\n",
    "\n",
    "plt.annotate(\"y = -0.09x + 54.01\", (0,47), fontsize=15,color=\"red\")\n",
    "\n",
    "plt.xlabel('Latitude')\n",
    "plt.ylabel('Cloudiness')\n",
    "print(f\"The r-squared is: {results.rsquared}\")\n",
    "plt.show()"
   ]
  },
  {
   "cell_type": "markdown",
   "metadata": {},
   "source": [
    "####  Southern Hemisphere - Cloudiness (%) vs. Latitude Linear Regression"
   ]
  },
  {
   "cell_type": "code",
   "execution_count": 50,
   "metadata": {},
   "outputs": [],
   "source": [
    "feature3 = southern_hemisphere[[\"Lat\"]]\n",
    "target3 = southern_hemisphere[\"Clouds\"]"
   ]
  },
  {
   "cell_type": "code",
   "execution_count": 51,
   "metadata": {},
   "outputs": [
    {
     "data": {
      "text/html": [
       "<table class=\"simpletable\">\n",
       "<caption>OLS Regression Results</caption>\n",
       "<tr>\n",
       "  <th>Dep. Variable:</th>         <td>Clouds</td>      <th>  R-squared:         </th> <td>   0.010</td>\n",
       "</tr>\n",
       "<tr>\n",
       "  <th>Model:</th>                   <td>OLS</td>       <th>  Adj. R-squared:    </th> <td>   0.005</td>\n",
       "</tr>\n",
       "<tr>\n",
       "  <th>Method:</th>             <td>Least Squares</td>  <th>  F-statistic:       </th> <td>   1.860</td>\n",
       "</tr>\n",
       "<tr>\n",
       "  <th>Date:</th>             <td>Sun, 05 Sep 2021</td> <th>  Prob (F-statistic):</th>  <td> 0.174</td> \n",
       "</tr>\n",
       "<tr>\n",
       "  <th>Time:</th>                 <td>22:40:05</td>     <th>  Log-Likelihood:    </th> <td> -911.88</td>\n",
       "</tr>\n",
       "<tr>\n",
       "  <th>No. Observations:</th>      <td>   181</td>      <th>  AIC:               </th> <td>   1828.</td>\n",
       "</tr>\n",
       "<tr>\n",
       "  <th>Df Residuals:</th>          <td>   179</td>      <th>  BIC:               </th> <td>   1834.</td>\n",
       "</tr>\n",
       "<tr>\n",
       "  <th>Df Model:</th>              <td>     1</td>      <th>                     </th>     <td> </td>   \n",
       "</tr>\n",
       "<tr>\n",
       "  <th>Covariance Type:</th>      <td>nonrobust</td>    <th>                     </th>     <td> </td>   \n",
       "</tr>\n",
       "</table>\n",
       "<table class=\"simpletable\">\n",
       "<tr>\n",
       "    <td></td>       <th>coef</th>     <th>std err</th>      <th>t</th>      <th>P>|t|</th>  <th>[0.025</th>    <th>0.975]</th>  \n",
       "</tr>\n",
       "<tr>\n",
       "  <th>const</th> <td>   51.9547</td> <td>    5.099</td> <td>   10.189</td> <td> 0.000</td> <td>   41.893</td> <td>   62.017</td>\n",
       "</tr>\n",
       "<tr>\n",
       "  <th>Lat</th>   <td>    0.2788</td> <td>    0.204</td> <td>    1.364</td> <td> 0.174</td> <td>   -0.125</td> <td>    0.682</td>\n",
       "</tr>\n",
       "</table>\n",
       "<table class=\"simpletable\">\n",
       "<tr>\n",
       "  <th>Omnibus:</th>       <td>492.199</td> <th>  Durbin-Watson:     </th> <td>   1.977</td>\n",
       "</tr>\n",
       "<tr>\n",
       "  <th>Prob(Omnibus):</th> <td> 0.000</td>  <th>  Jarque-Bera (JB):  </th> <td>  17.354</td>\n",
       "</tr>\n",
       "<tr>\n",
       "  <th>Skew:</th>          <td> 0.258</td>  <th>  Prob(JB):          </th> <td>0.000170</td>\n",
       "</tr>\n",
       "<tr>\n",
       "  <th>Kurtosis:</th>      <td> 1.574</td>  <th>  Cond. No.          </th> <td>    45.7</td>\n",
       "</tr>\n",
       "</table><br/><br/>Notes:<br/>[1] Standard Errors assume that the covariance matrix of the errors is correctly specified."
      ],
      "text/plain": [
       "<class 'statsmodels.iolib.summary.Summary'>\n",
       "\"\"\"\n",
       "                            OLS Regression Results                            \n",
       "==============================================================================\n",
       "Dep. Variable:                 Clouds   R-squared:                       0.010\n",
       "Model:                            OLS   Adj. R-squared:                  0.005\n",
       "Method:                 Least Squares   F-statistic:                     1.860\n",
       "Date:                Sun, 05 Sep 2021   Prob (F-statistic):              0.174\n",
       "Time:                        22:40:05   Log-Likelihood:                -911.88\n",
       "No. Observations:                 181   AIC:                             1828.\n",
       "Df Residuals:                     179   BIC:                             1834.\n",
       "Df Model:                           1                                         \n",
       "Covariance Type:            nonrobust                                         \n",
       "==============================================================================\n",
       "                 coef    std err          t      P>|t|      [0.025      0.975]\n",
       "------------------------------------------------------------------------------\n",
       "const         51.9547      5.099     10.189      0.000      41.893      62.017\n",
       "Lat            0.2788      0.204      1.364      0.174      -0.125       0.682\n",
       "==============================================================================\n",
       "Omnibus:                      492.199   Durbin-Watson:                   1.977\n",
       "Prob(Omnibus):                  0.000   Jarque-Bera (JB):               17.354\n",
       "Skew:                           0.258   Prob(JB):                     0.000170\n",
       "Kurtosis:                       1.574   Cond. No.                         45.7\n",
       "==============================================================================\n",
       "\n",
       "Notes:\n",
       "[1] Standard Errors assume that the covariance matrix of the errors is correctly specified.\n",
       "\"\"\""
      ]
     },
     "execution_count": 51,
     "metadata": {},
     "output_type": "execute_result"
    }
   ],
   "source": [
    " # STATSMODELS\n",
    "X = sm.add_constant(feature3)\n",
    "Y = target3\n",
    "\n",
    "model = sm.OLS(Y,X)\n",
    "results = model.fit()\n",
    "results.summary()"
   ]
  },
  {
   "cell_type": "code",
   "execution_count": 52,
   "metadata": {},
   "outputs": [
    {
     "data": {
      "text/plain": [
       "1407.0952197741847"
      ]
     },
     "execution_count": 52,
     "metadata": {},
     "output_type": "execute_result"
    }
   ],
   "source": [
    "results.mse_resid"
   ]
  },
  {
   "cell_type": "code",
   "execution_count": 54,
   "metadata": {},
   "outputs": [
    {
     "name": "stdout",
     "output_type": "stream",
     "text": [
      "The r-squared is: 0.010282549657538276\n"
     ]
    },
    {
     "data": {
      "image/png": "[encoded data removed]",
      "text/plain": [
       "<Figure size 432x288 with 1 Axes>"
      ]
     },
     "metadata": {
      "needs_background": "light"
     },
     "output_type": "display_data"
    }
   ],
   "source": [
    "# make plot\n",
    "plt.scatter(southern_hemisphere.Lat, southern_hemisphere.Clouds)\n",
    "\n",
    "plt.plot(southern_hemisphere.Lat, results.fittedvalues, \"r-\")\n",
    "\n",
    "plt.annotate(\"y = 0.28x + 51.95\", (-55,45), fontsize=15,color=\"red\")\n",
    "\n",
    "plt.xlabel('Latitude')\n",
    "plt.ylabel('Cloudiness')\n",
    "print(f\"The r-squared is: {results.rsquared}\")\n",
    "plt.show()"
   ]
  },
  {
   "cell_type": "markdown",
   "metadata": {},
   "source": [
    "####  Northern Hemisphere - Wind Speed (mph) vs. Latitude Linear Regression"
   ]
  },
  {
   "cell_type": "code",
   "execution_count": 55,
   "metadata": {},
   "outputs": [],
   "source": [
    "feature4 = northern_hemisphere[[\"Lat\"]]\n",
    "target4 = northern_hemisphere[\"Wind_Speed\"]"
   ]
  },
  {
   "cell_type": "code",
   "execution_count": 56,
   "metadata": {},
   "outputs": [
    {
     "data": {
      "text/html": [
       "<table class=\"simpletable\">\n",
       "<caption>OLS Regression Results</caption>\n",
       "<tr>\n",
       "  <th>Dep. Variable:</th>       <td>Wind_Speed</td>    <th>  R-squared:         </th> <td>   0.030</td>\n",
       "</tr>\n",
       "<tr>\n",
       "  <th>Model:</th>                   <td>OLS</td>       <th>  Adj. R-squared:    </th> <td>   0.028</td>\n",
       "</tr>\n",
       "<tr>\n",
       "  <th>Method:</th>             <td>Least Squares</td>  <th>  F-statistic:       </th> <td>   12.02</td>\n",
       "</tr>\n",
       "<tr>\n",
       "  <th>Date:</th>             <td>Sun, 05 Sep 2021</td> <th>  Prob (F-statistic):</th> <td>0.000584</td>\n",
       "</tr>\n",
       "<tr>\n",
       "  <th>Time:</th>                 <td>22:41:06</td>     <th>  Log-Likelihood:    </th> <td> -876.83</td>\n",
       "</tr>\n",
       "<tr>\n",
       "  <th>No. Observations:</th>      <td>   389</td>      <th>  AIC:               </th> <td>   1758.</td>\n",
       "</tr>\n",
       "<tr>\n",
       "  <th>Df Residuals:</th>          <td>   387</td>      <th>  BIC:               </th> <td>   1766.</td>\n",
       "</tr>\n",
       "<tr>\n",
       "  <th>Df Model:</th>              <td>     1</td>      <th>                     </th>     <td> </td>   \n",
       "</tr>\n",
       "<tr>\n",
       "  <th>Covariance Type:</th>      <td>nonrobust</td>    <th>                     </th>     <td> </td>   \n",
       "</tr>\n",
       "</table>\n",
       "<table class=\"simpletable\">\n",
       "<tr>\n",
       "    <td></td>       <th>coef</th>     <th>std err</th>      <th>t</th>      <th>P>|t|</th>  <th>[0.025</th>    <th>0.975]</th>  \n",
       "</tr>\n",
       "<tr>\n",
       "  <th>const</th> <td>    2.4230</td> <td>    0.248</td> <td>    9.782</td> <td> 0.000</td> <td>    1.936</td> <td>    2.910</td>\n",
       "</tr>\n",
       "<tr>\n",
       "  <th>Lat</th>   <td>    0.0201</td> <td>    0.006</td> <td>    3.467</td> <td> 0.001</td> <td>    0.009</td> <td>    0.032</td>\n",
       "</tr>\n",
       "</table>\n",
       "<table class=\"simpletable\">\n",
       "<tr>\n",
       "  <th>Omnibus:</th>       <td>67.084</td> <th>  Durbin-Watson:     </th> <td>   1.795</td>\n",
       "</tr>\n",
       "<tr>\n",
       "  <th>Prob(Omnibus):</th> <td> 0.000</td> <th>  Jarque-Bera (JB):  </th> <td> 101.524</td>\n",
       "</tr>\n",
       "<tr>\n",
       "  <th>Skew:</th>          <td> 1.089</td> <th>  Prob(JB):          </th> <td>9.00e-23</td>\n",
       "</tr>\n",
       "<tr>\n",
       "  <th>Kurtosis:</th>      <td> 4.231</td> <th>  Cond. No.          </th> <td>    90.2</td>\n",
       "</tr>\n",
       "</table><br/><br/>Notes:<br/>[1] Standard Errors assume that the covariance matrix of the errors is correctly specified."
      ],
      "text/plain": [
       "<class 'statsmodels.iolib.summary.Summary'>\n",
       "\"\"\"\n",
       "                            OLS Regression Results                            \n",
       "==============================================================================\n",
       "Dep. Variable:             Wind_Speed   R-squared:                       0.030\n",
       "Model:                            OLS   Adj. R-squared:                  0.028\n",
       "Method:                 Least Squares   F-statistic:                     12.02\n",
       "Date:                Sun, 05 Sep 2021   Prob (F-statistic):           0.000584\n",
       "Time:                        22:41:06   Log-Likelihood:                -876.83\n",
       "No. Observations:                 389   AIC:                             1758.\n",
       "Df Residuals:                     387   BIC:                             1766.\n",
       "Df Model:                           1                                         \n",
       "Covariance Type:            nonrobust                                         \n",
       "==============================================================================\n",
       "                 coef    std err          t      P>|t|      [0.025      0.975]\n",
       "------------------------------------------------------------------------------\n",
       "const          2.4230      0.248      9.782      0.000       1.936       2.910\n",
       "Lat            0.0201      0.006      3.467      0.001       0.009       0.032\n",
       "==============================================================================\n",
       "Omnibus:                       67.084   Durbin-Watson:                   1.795\n",
       "Prob(Omnibus):                  0.000   Jarque-Bera (JB):              101.524\n",
       "Skew:                           1.089   Prob(JB):                     9.00e-23\n",
       "Kurtosis:                       4.231   Cond. No.                         90.2\n",
       "==============================================================================\n",
       "\n",
       "Notes:\n",
       "[1] Standard Errors assume that the covariance matrix of the errors is correctly specified.\n",
       "\"\"\""
      ]
     },
     "execution_count": 56,
     "metadata": {},
     "output_type": "execute_result"
    }
   ],
   "source": [
    " # STATSMODELS\n",
    "X = sm.add_constant(feature4)\n",
    "Y = target4\n",
    "\n",
    "model = sm.OLS(Y,X)\n",
    "results = model.fit()\n",
    "results.summary()"
   ]
  },
  {
   "cell_type": "code",
   "execution_count": 57,
   "metadata": {},
   "outputs": [
    {
     "data": {
      "text/plain": [
       "5.341032590533371"
      ]
     },
     "execution_count": 57,
     "metadata": {},
     "output_type": "execute_result"
    }
   ],
   "source": [
    "results.mse_resid"
   ]
  },
  {
   "cell_type": "code",
   "execution_count": 59,
   "metadata": {},
   "outputs": [
    {
     "name": "stdout",
     "output_type": "stream",
     "text": [
      "The r-squared is: 0.03013119601083447\n"
     ]
    },
    {
     "data": {
      "image/png": "[encoded data removed]",
      "text/plain": [
       "<Figure size 432x288 with 1 Axes>"
      ]
     },
     "metadata": {
      "needs_background": "light"
     },
     "output_type": "display_data"
    }
   ],
   "source": [
    "# make plot\n",
    "plt.scatter(northern_hemisphere.Lat, northern_hemisphere.Wind_Speed)\n",
    "\n",
    "plt.plot(northern_hemisphere.Lat, results.fittedvalues, \"r-\")\n",
    "\n",
    "plt.annotate(\"y = 0.02x + 2.42\", (25,10), fontsize=15,color=\"red\")\n",
    "\n",
    "plt.xlabel('Latitude')\n",
    "plt.ylabel('Wind Speed')\n",
    "print(f\"The r-squared is: {results.rsquared}\")\n",
    "plt.show()"
   ]
  },
  {
   "cell_type": "markdown",
   "metadata": {},
   "source": [
    "####  Southern Hemisphere - Wind Speed (mph) vs. Latitude Linear Regression"
   ]
  },
  {
   "cell_type": "code",
   "execution_count": 60,
   "metadata": {},
   "outputs": [],
   "source": [
    "feature5 = southern_hemisphere[[\"Lat\"]]\n",
    "target5 = southern_hemisphere[\"Wind_Speed\"]"
   ]
  },
  {
   "cell_type": "code",
   "execution_count": 61,
   "metadata": {},
   "outputs": [
    {
     "data": {
      "text/html": [
       "<table class=\"simpletable\">\n",
       "<caption>OLS Regression Results</caption>\n",
       "<tr>\n",
       "  <th>Dep. Variable:</th>       <td>Wind_Speed</td>    <th>  R-squared:         </th> <td>   0.012</td>\n",
       "</tr>\n",
       "<tr>\n",
       "  <th>Model:</th>                   <td>OLS</td>       <th>  Adj. R-squared:    </th> <td>   0.007</td>\n",
       "</tr>\n",
       "<tr>\n",
       "  <th>Method:</th>             <td>Least Squares</td>  <th>  F-statistic:       </th> <td>   2.241</td>\n",
       "</tr>\n",
       "<tr>\n",
       "  <th>Date:</th>             <td>Sun, 05 Sep 2021</td> <th>  Prob (F-statistic):</th>  <td> 0.136</td> \n",
       "</tr>\n",
       "<tr>\n",
       "  <th>Time:</th>                 <td>22:41:37</td>     <th>  Log-Likelihood:    </th> <td> -428.36</td>\n",
       "</tr>\n",
       "<tr>\n",
       "  <th>No. Observations:</th>      <td>   181</td>      <th>  AIC:               </th> <td>   860.7</td>\n",
       "</tr>\n",
       "<tr>\n",
       "  <th>Df Residuals:</th>          <td>   179</td>      <th>  BIC:               </th> <td>   867.1</td>\n",
       "</tr>\n",
       "<tr>\n",
       "  <th>Df Model:</th>              <td>     1</td>      <th>                     </th>     <td> </td>   \n",
       "</tr>\n",
       "<tr>\n",
       "  <th>Covariance Type:</th>      <td>nonrobust</td>    <th>                     </th>     <td> </td>   \n",
       "</tr>\n",
       "</table>\n",
       "<table class=\"simpletable\">\n",
       "<tr>\n",
       "    <td></td>       <th>coef</th>     <th>std err</th>      <th>t</th>      <th>P>|t|</th>  <th>[0.025</th>    <th>0.975]</th>  \n",
       "</tr>\n",
       "<tr>\n",
       "  <th>const</th> <td>    3.5446</td> <td>    0.353</td> <td>   10.052</td> <td> 0.000</td> <td>    2.849</td> <td>    4.240</td>\n",
       "</tr>\n",
       "<tr>\n",
       "  <th>Lat</th>   <td>   -0.0212</td> <td>    0.014</td> <td>   -1.497</td> <td> 0.136</td> <td>   -0.049</td> <td>    0.007</td>\n",
       "</tr>\n",
       "</table>\n",
       "<table class=\"simpletable\">\n",
       "<tr>\n",
       "  <th>Omnibus:</th>       <td> 9.461</td> <th>  Durbin-Watson:     </th> <td>   1.929</td>\n",
       "</tr>\n",
       "<tr>\n",
       "  <th>Prob(Omnibus):</th> <td> 0.009</td> <th>  Jarque-Bera (JB):  </th> <td>  10.026</td>\n",
       "</tr>\n",
       "<tr>\n",
       "  <th>Skew:</th>          <td> 0.575</td> <th>  Prob(JB):          </th> <td> 0.00665</td>\n",
       "</tr>\n",
       "<tr>\n",
       "  <th>Kurtosis:</th>      <td> 2.921</td> <th>  Cond. No.          </th> <td>    45.7</td>\n",
       "</tr>\n",
       "</table><br/><br/>Notes:<br/>[1] Standard Errors assume that the covariance matrix of the errors is correctly specified."
      ],
      "text/plain": [
       "<class 'statsmodels.iolib.summary.Summary'>\n",
       "\"\"\"\n",
       "                            OLS Regression Results                            \n",
       "==============================================================================\n",
       "Dep. Variable:             Wind_Speed   R-squared:                       0.012\n",
       "Model:                            OLS   Adj. R-squared:                  0.007\n",
       "Method:                 Least Squares   F-statistic:                     2.241\n",
       "Date:                Sun, 05 Sep 2021   Prob (F-statistic):              0.136\n",
       "Time:                        22:41:37   Log-Likelihood:                -428.36\n",
       "No. Observations:                 181   AIC:                             860.7\n",
       "Df Residuals:                     179   BIC:                             867.1\n",
       "Df Model:                           1                                         \n",
       "Covariance Type:            nonrobust                                         \n",
       "==============================================================================\n",
       "                 coef    std err          t      P>|t|      [0.025      0.975]\n",
       "------------------------------------------------------------------------------\n",
       "const          3.5446      0.353     10.052      0.000       2.849       4.240\n",
       "Lat           -0.0212      0.014     -1.497      0.136      -0.049       0.007\n",
       "==============================================================================\n",
       "Omnibus:                        9.461   Durbin-Watson:                   1.929\n",
       "Prob(Omnibus):                  0.009   Jarque-Bera (JB):               10.026\n",
       "Skew:                           0.575   Prob(JB):                      0.00665\n",
       "Kurtosis:                       2.921   Cond. No.                         45.7\n",
       "==============================================================================\n",
       "\n",
       "Notes:\n",
       "[1] Standard Errors assume that the covariance matrix of the errors is correctly specified.\n",
       "\"\"\""
      ]
     },
     "execution_count": 61,
     "metadata": {},
     "output_type": "execute_result"
    }
   ],
   "source": [
    " # STATSMODELS\n",
    "X = sm.add_constant(feature5)\n",
    "Y = target5\n",
    "\n",
    "model = sm.OLS(Y,X)\n",
    "results = model.fit()\n",
    "results.summary()"
   ]
  },
  {
   "cell_type": "code",
   "execution_count": 62,
   "metadata": {},
   "outputs": [
    {
     "data": {
      "text/plain": [
       "6.729188633252663"
      ]
     },
     "execution_count": 62,
     "metadata": {},
     "output_type": "execute_result"
    }
   ],
   "source": [
    "results.mse_resid"
   ]
  },
  {
   "cell_type": "code",
   "execution_count": 64,
   "metadata": {},
   "outputs": [
    {
     "name": "stdout",
     "output_type": "stream",
     "text": [
      "The r-squared is: 0.012362321823668365\n"
     ]
    },
    {
     "data": {
      "image/png": "[encoded data removed]",
      "text/plain": [
       "<Figure size 432x288 with 1 Axes>"
      ]
     },
     "metadata": {
      "needs_background": "light"
     },
     "output_type": "display_data"
    }
   ],
   "source": [
    "# make plot\n",
    "plt.scatter(southern_hemisphere.Lat, southern_hemisphere.Wind_Speed)\n",
    "\n",
    "plt.plot(southern_hemisphere.Lat, results.fittedvalues, \"r-\")\n",
    "\n",
    "plt.annotate(\"y = -0.02x + 3.54\", (-50,12), fontsize=15,color=\"red\")\n",
    "\n",
    "plt.xlabel('Latitude')\n",
    "plt.ylabel('Wind Speed')\n",
    "print(f\"The r-squared is: {results.rsquared}\")\n",
    "plt.show()"
   ]
  }
 ],
 "metadata": {
  "anaconda-cloud": {},
  "kernel_info": {
   "name": "python3"
  },
  "kernelspec": {
   "display_name": "Python 3",
   "language": "python",
   "name": "python3"
  },
  "language_info": {
   "codemirror_mode": {
    "name": "ipython",
    "version": 3
   },
   "file_extension": ".py",
   "mimetype": "text/x-python",
   "name": "python",
   "nbconvert_exporter": "python",
   "pygments_lexer": "ipython3",
   "version": "3.8.5"
  },
  "latex_envs": {
   "LaTeX_envs_menu_present": true,
   "autoclose": false,
   "autocomplete": true,
   "bibliofile": "biblio.bib",
   "cite_by": "apalike",
   "current_citInitial": 1,
   "eqLabelWithNumbers": true,
   "eqNumInitial": 1,
   "hotkeys": {
    "equation": "Ctrl-E",
    "itemize": "Ctrl-I"
   },
   "labels_anchors": false,
   "latex_user_defs": false,
   "report_style_numbering": false,
   "user_envs_cfg": false
  },
  "nteract": {
   "version": "0.12.3"
  }
 },
 "nbformat": 4,
 "nbformat_minor": 2
}
